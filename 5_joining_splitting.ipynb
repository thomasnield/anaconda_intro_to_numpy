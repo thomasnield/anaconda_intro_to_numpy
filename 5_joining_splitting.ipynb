{
 "cells": [
  {
   "cell_type": "markdown",
   "id": "bccdf86f-cad2-453c-b043-b6c9182ea1af",
   "metadata": {},
   "source": [
    "# Joining and Splitting"
   ]
  },
  {
   "cell_type": "markdown",
   "id": "9e30f1f0-1158-40c4-acf7-977f440daa84",
   "metadata": {},
   "source": [
    "In this section we will learn various ways to combine and split arrays. "
   ]
  },
  {
   "cell_type": "markdown",
   "id": "e9d09905-cc09-400d-9478-1342b9810394",
   "metadata": {},
   "source": [
    "## Concatenation"
   ]
  },
  {
   "cell_type": "markdown",
   "id": "f97cbd38-7f0d-4411-b1f6-47e2b82b1d8e",
   "metadata": {},
   "source": [
    "If we want to **concatenate**, or append two arrays, we can use the `concatenate()` function."
   ]
  },
  {
   "cell_type": "code",
   "execution_count": 3,
   "id": "5dcdf1a1-fe71-4981-b54a-27d075291c73",
   "metadata": {},
   "outputs": [
    {
     "name": "stdout",
     "output_type": "stream",
     "text": [
      "[10 20 30 40 50 60]\n"
     ]
    }
   ],
   "source": [
    "import numpy as np\n",
    "\n",
    "x = np.array([10, 20, 30])\n",
    "y = np.array([40, 50, 60])\n",
    "\n",
    "x_and_y = np.concatenate([x, y])\n",
    "\n",
    "print(x_and_y)"
   ]
  },
  {
   "cell_type": "markdown",
   "id": "7ee8dc4c-e899-4a5d-bf96-b37b66cc4cde",
   "metadata": {},
   "source": [
    "This will also work when we have arrays structured as a vertical column "
   ]
  },
  {
   "cell_type": "code",
   "execution_count": 4,
   "id": "5f1d1193-a07d-4e0f-b970-a4e6e0d866f6",
   "metadata": {},
   "outputs": [
    {
     "name": "stdout",
     "output_type": "stream",
     "text": [
      "[[10]\n",
      " [20]\n",
      " [30]\n",
      " [40]\n",
      " [50]\n",
      " [60]]\n"
     ]
    }
   ],
   "source": [
    "import numpy as np\n",
    "\n",
    "x = np.array([[10], [20], [30]])\n",
    "y = np.array([[40], [50], [60]])\n",
    "\n",
    "x_and_y = np.concatenate((x, y))\n",
    "\n",
    "print(x_and_y)"
   ]
  },
  {
   "cell_type": "markdown",
   "id": "3a672b29-f423-4bae-9451-1f224332f005",
   "metadata": {},
   "source": [
    "## Stacking"
   ]
  },
  {
   "cell_type": "markdown",
   "id": "c8876c2d-5db1-42a3-8538-b424aead4bbf",
   "metadata": {},
   "source": [
    "Similar to concatenation, you can perform stacking which specifies an axis. `vstack()` will stack the arrays vertically. "
   ]
  },
  {
   "cell_type": "code",
   "execution_count": 5,
   "id": "8c74c369-a6c5-4d8d-9560-da8d811368ce",
   "metadata": {},
   "outputs": [
    {
     "data": {
      "text/plain": [
       "array([[10, 20, 30],\n",
       "       [40, 50, 60]])"
      ]
     },
     "execution_count": 5,
     "metadata": {},
     "output_type": "execute_result"
    }
   ],
   "source": [
    "import numpy as np\n",
    "\n",
    "x = np.array([10, 20, 30])\n",
    "y = np.array([40, 50, 60])\n",
    "\n",
    "np.vstack((x, y))"
   ]
  },
  {
   "cell_type": "markdown",
   "id": "b358351a-b169-4a7e-9e67-2a181d101a32",
   "metadata": {},
   "source": [
    "`hstack()` will stack them horizontally. "
   ]
  },
  {
   "cell_type": "code",
   "execution_count": 6,
   "id": "6d1d85e2-c23c-49d3-9995-91bfdfac8d06",
   "metadata": {},
   "outputs": [
    {
     "data": {
      "text/plain": [
       "array([10, 20, 30, 40, 50, 60])"
      ]
     },
     "execution_count": 6,
     "metadata": {},
     "output_type": "execute_result"
    }
   ],
   "source": [
    "import numpy as np\n",
    "\n",
    "x = np.array([10, 20, 30])\n",
    "y = np.array([40, 50, 60])\n",
    "\n",
    "np.hstack((x, y))"
   ]
  },
  {
   "cell_type": "markdown",
   "id": "5d711704-5a50-4892-a674-cd9571229d8c",
   "metadata": {},
   "source": [
    "`dstack()` will stack them along the z-axis, the depth or height axis. "
   ]
  },
  {
   "cell_type": "code",
   "execution_count": 7,
   "id": "f78c0bce-81e7-4a06-8ceb-4e72b7e043d0",
   "metadata": {},
   "outputs": [
    {
     "data": {
      "text/plain": [
       "array([[[10, 40],\n",
       "        [20, 50],\n",
       "        [30, 60]]])"
      ]
     },
     "execution_count": 7,
     "metadata": {},
     "output_type": "execute_result"
    }
   ],
   "source": [
    "import numpy as np\n",
    "\n",
    "x = np.array([10, 20, 30])\n",
    "y = np.array([40, 50, 60])\n",
    "\n",
    "np.dstack((x, y))"
   ]
  },
  {
   "cell_type": "markdown",
   "id": "d5110240-d91b-4220-aab4-9727a90f2ee1",
   "metadata": {},
   "source": [
    "## Splitting"
   ]
  },
  {
   "cell_type": "markdown",
   "id": "8e777f2a-ab03-4551-a1fc-f2d8c10d5316",
   "metadata": {},
   "source": [
    "Let's create an array of 10 elements. "
   ]
  },
  {
   "cell_type": "code",
   "execution_count": 8,
   "id": "e0737af9-026d-448f-9abd-7749e4b1bcc1",
   "metadata": {},
   "outputs": [
    {
     "data": {
      "text/plain": [
       "array([0, 1, 2, 3, 4, 5, 6, 7, 8, 9])"
      ]
     },
     "execution_count": 8,
     "metadata": {},
     "output_type": "execute_result"
    }
   ],
   "source": [
    "x = np.arange(0,10)\n",
    "x"
   ]
  },
  {
   "cell_type": "markdown",
   "id": "b4966a5c-1038-4390-99b5-b48d721e05ca",
   "metadata": {},
   "source": [
    "We can use `array_split()` to split the array into two. "
   ]
  },
  {
   "cell_type": "code",
   "execution_count": 9,
   "id": "5d7b0dce-f008-4cb9-b408-3bf96f32afed",
   "metadata": {},
   "outputs": [
    {
     "data": {
      "text/plain": [
       "[array([0, 1, 2, 3, 4]), array([5, 6, 7, 8, 9])]"
      ]
     },
     "execution_count": 9,
     "metadata": {},
     "output_type": "execute_result"
    }
   ],
   "source": [
    "np.array_split(x, 2)"
   ]
  },
  {
   "cell_type": "markdown",
   "id": "2e3f3987-6278-44af-b43f-9022c0779bba",
   "metadata": {},
   "source": [
    "If there is a remainder (such as dividing an array of 11 elements into two arrays), it will omit the remainder elements. "
   ]
  },
  {
   "cell_type": "code",
   "execution_count": 10,
   "id": "e56e7580-7cc5-4fb2-a645-f6f0c807706a",
   "metadata": {},
   "outputs": [
    {
     "data": {
      "text/plain": [
       "[array([0, 1, 2, 3, 4]), array([5, 6, 7, 8, 9])]"
      ]
     },
     "execution_count": 10,
     "metadata": {},
     "output_type": "execute_result"
    }
   ],
   "source": [
    "y = np.arange(0,11)\n",
    "\n",
    "np.array_split(x,2)"
   ]
  },
  {
   "cell_type": "markdown",
   "id": "9301f46f-c20d-482e-85c7-7e99f9018457",
   "metadata": {},
   "source": [
    "We can also leverage an `axis` parameter to make a split by columns. Below we split a 2x3 matrix into 3 arrays by columns. "
   ]
  },
  {
   "cell_type": "code",
   "execution_count": 11,
   "id": "0a80c57f-9247-4d0a-83bb-b5556bf5996e",
   "metadata": {},
   "outputs": [
    {
     "data": {
      "text/plain": [
       "[array([[10],\n",
       "        [40]]),\n",
       " array([[20],\n",
       "        [50]]),\n",
       " array([[30],\n",
       "        [60]])]"
      ]
     },
     "execution_count": 11,
     "metadata": {},
     "output_type": "execute_result"
    }
   ],
   "source": [
    "z = np.array([[10, 20, 30], \n",
    "            [40, 50, 60]])\n",
    "\n",
    "np.array_split(z, 3, axis=1)"
   ]
  },
  {
   "cell_type": "markdown",
   "id": "14298299-072b-445e-9df4-71fdffcd8233",
   "metadata": {},
   "source": [
    "We could also achieve this using the `hsplit()` function, which performs a horizontal split and divides the columns. "
   ]
  },
  {
   "cell_type": "code",
   "execution_count": 12,
   "id": "604aa878-e1fd-4f95-9686-32cdecb51e8d",
   "metadata": {},
   "outputs": [
    {
     "data": {
      "text/plain": [
       "[array([[10],\n",
       "        [40]]),\n",
       " array([[20],\n",
       "        [50]]),\n",
       " array([[30],\n",
       "        [60]])]"
      ]
     },
     "execution_count": 12,
     "metadata": {},
     "output_type": "execute_result"
    }
   ],
   "source": [
    "np.hsplit(z, 3)"
   ]
  },
  {
   "cell_type": "markdown",
   "id": "e3a5af49-86ad-4397-a614-70eff4f13a02",
   "metadata": {},
   "source": [
    "The `vsplit()` will split vertically on each row. "
   ]
  },
  {
   "cell_type": "code",
   "execution_count": 13,
   "id": "fbe00472-9f49-4dc7-b054-62968ac8a3cf",
   "metadata": {},
   "outputs": [
    {
     "data": {
      "text/plain": [
       "[array([[10, 20, 30]]), array([[40, 50, 60]])]"
      ]
     },
     "execution_count": 13,
     "metadata": {},
     "output_type": "execute_result"
    }
   ],
   "source": [
    "np.vsplit(z,2)"
   ]
  },
  {
   "cell_type": "markdown",
   "id": "4e31619f-39ec-42c1-8cfe-ebf64c4fc873",
   "metadata": {},
   "source": [
    "You can also unpack each of the individual arrays into variables. "
   ]
  },
  {
   "cell_type": "code",
   "execution_count": 14,
   "id": "96614add-4560-4bc2-8754-cac16bec0671",
   "metadata": {},
   "outputs": [],
   "source": [
    "a,b,c = np.hsplit(z, 3)"
   ]
  },
  {
   "cell_type": "code",
   "execution_count": 15,
   "id": "15932e71-21a8-43e5-9b08-c9c104a5102c",
   "metadata": {},
   "outputs": [
    {
     "data": {
      "text/plain": [
       "array([[10],\n",
       "       [40]])"
      ]
     },
     "execution_count": 15,
     "metadata": {},
     "output_type": "execute_result"
    }
   ],
   "source": [
    "a"
   ]
  },
  {
   "cell_type": "code",
   "execution_count": 16,
   "id": "eb4dd2d5-9c7d-4fd9-9343-a760d3c24449",
   "metadata": {},
   "outputs": [
    {
     "data": {
      "text/plain": [
       "array([[20],\n",
       "       [50]])"
      ]
     },
     "execution_count": 16,
     "metadata": {},
     "output_type": "execute_result"
    }
   ],
   "source": [
    "b"
   ]
  },
  {
   "cell_type": "code",
   "execution_count": 17,
   "id": "e5fd6c05-d55c-4f0e-ac19-179225a3c0c8",
   "metadata": {},
   "outputs": [
    {
     "data": {
      "text/plain": [
       "array([[30],\n",
       "       [60]])"
      ]
     },
     "execution_count": 17,
     "metadata": {},
     "output_type": "execute_result"
    }
   ],
   "source": [
    "c"
   ]
  },
  {
   "cell_type": "markdown",
   "id": "dbe8c42f-9c0a-4a56-a806-e915ec1b1bd6",
   "metadata": {},
   "source": [
    "Spend some time getting familiar with these operators and experiment with different shaped arrays. "
   ]
  },
  {
   "cell_type": "markdown",
   "id": "0fbd03ef-5786-4ad6-a7fd-fcdde5e10e14",
   "metadata": {},
   "source": [
    "## EXERCISE "
   ]
  },
  {
   "cell_type": "markdown",
   "id": "23890b87-6cf2-44ce-9c90-da646ac438b2",
   "metadata": {},
   "source": [
    "Below we have a matrix $ X $. \n",
    "\n",
    "$$\n",
    "X = \\begin{bmatrix} \n",
    "1 & 2 & 3 & 4 \\\\\n",
    "5 & 6 & 7 & 8 \n",
    "\\end{bmatrix}\n",
    "$$\n",
    "\n",
    "Split and concatenate matrix $ X $ so we come up with this new matrix: \n",
    "\n",
    "$$\n",
    "Y = \\begin{bmatrix} \n",
    "1 & 2 \\\\ \n",
    "5 & 6 \\\\\n",
    "3 & 4 \\\\\n",
    "7 & 8 \n",
    "\\end{bmatrix}\n",
    "$$"
   ]
  },
  {
   "cell_type": "code",
   "execution_count": null,
   "id": "2c60a83a-b99b-404d-ad8c-1f24310af3d2",
   "metadata": {},
   "outputs": [],
   "source": [
    "## Put your code here \n",
    "\n",
    "\n",
    "\n"
   ]
  },
  {
   "cell_type": "markdown",
   "id": "cf12638d-84e6-4a89-8268-12d1b9f02026",
   "metadata": {},
   "source": [
    "### SCROLL DOWN FOR ANSWER\n",
    "|<br>\n",
    "|<br>\n",
    "|<br>\n",
    "|<br>\n",
    "|<br>\n",
    "|<br>\n",
    "|<br>\n",
    "|<br>\n",
    "|<br>\n",
    "|<br>\n",
    "|<br>\n",
    "|<br>\n",
    "|<br>\n",
    "|<br>\n",
    "|<br>\n",
    "|<br>\n",
    "|<br>\n",
    "|<br>\n",
    "|<br>\n",
    "|<br>\n",
    "|<br>\n",
    "|<br>\n",
    "|<br>\n",
    "v "
   ]
  },
  {
   "cell_type": "markdown",
   "id": "f898fb89-8630-4cbf-adbd-ca85e28b5c15",
   "metadata": {},
   "source": [
    "Use `hsplit()` to slice down the middle to create two 2x2 matrices, and then use `concatenate()` or `vstack()` to append the two pieces vertically. "
   ]
  },
  {
   "cell_type": "code",
   "execution_count": 18,
   "id": "750999e0-5c9b-4c9b-9a4e-914bda6bdaca",
   "metadata": {},
   "outputs": [
    {
     "data": {
      "text/plain": [
       "array([[1, 2],\n",
       "       [5, 6],\n",
       "       [3, 4],\n",
       "       [7, 8]])"
      ]
     },
     "execution_count": 18,
     "metadata": {},
     "output_type": "execute_result"
    }
   ],
   "source": [
    "import numpy as np \n",
    "\n",
    "X = np.array([[1,2,3,4],\n",
    "              [5,6,7,8]])\n",
    "\n",
    "\n",
    "A,B = np.hsplit(X, 2)\n",
    "np.vstack([A, B])"
   ]
  },
  {
   "cell_type": "code",
   "execution_count": null,
   "id": "de157bd7-66cb-48ea-8612-07074a468c7c",
   "metadata": {},
   "outputs": [],
   "source": []
  }
 ],
 "metadata": {
  "kernelspec": {
   "display_name": "Python 3 (ipykernel)",
   "language": "python",
   "name": "python3"
  },
  "language_info": {
   "codemirror_mode": {
    "name": "ipython",
    "version": 3
   },
   "file_extension": ".py",
   "mimetype": "text/x-python",
   "name": "python",
   "nbconvert_exporter": "python",
   "pygments_lexer": "ipython3",
   "version": "3.12.2"
  }
 },
 "nbformat": 4,
 "nbformat_minor": 5
}
