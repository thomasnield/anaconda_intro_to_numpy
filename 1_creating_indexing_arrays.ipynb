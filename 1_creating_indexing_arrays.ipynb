{
 "cells": [
  {
   "cell_type": "markdown",
   "id": "fcc85c63-d281-4d36-9010-82e8db4ff542",
   "metadata": {},
   "source": [
    "# Creating and Indexing Arrays"
   ]
  },
  {
   "cell_type": "markdown",
   "id": "2486e8fe-7fd3-45c4-ba90-574d637acb5f",
   "metadata": {},
   "source": [
    "We will start with the most fundamental task in NumPy: creating and working with an array. An **array** is a vector, matrix, or tensor of numbers. In plain English, it is a grid of numeric values that we can efficiently perform numeric operations with, such as statistics or machine learning. \n",
    "\n"
   ]
  },
  {
   "cell_type": "markdown",
   "id": "ca60fc01-2451-45fd-bf89-29b809ec9713",
   "metadata": {},
   "source": [
    "## Why NumPy and Vectorization? "
   ]
  },
  {
   "cell_type": "markdown",
   "id": "b004a2eb-b6b8-4a2e-a65e-4b9e42d729b6",
   "metadata": {},
   "source": [
    "In Python, you may be familiar with collections like lists. We could take numbers, such as integers or floating point values, and put them inside lists like this. "
   ]
  },
  {
   "cell_type": "code",
   "execution_count": 2,
   "id": "fd63bdbd-6923-4ad3-8474-d40d1e34b75c",
   "metadata": {},
   "outputs": [
    {
     "name": "stdout",
     "output_type": "stream",
     "text": [
      "x = [1.2, 5.4, 7.3]\n",
      "y = [3.2, 5.1, 2.8]\n"
     ]
    }
   ],
   "source": [
    "x = [1.2, 5.4, 7.3]\n",
    "y = [3.2, 5.1, 2.8]\n",
    "\n",
    "print(f\"x = {x}\")\n",
    "print(f\"y = {y}\")"
   ]
  },
  {
   "cell_type": "markdown",
   "id": "94888a02-11d8-45a0-9b0b-49dc35878e45",
   "metadata": {},
   "source": [
    "Now let's say we wanted to add each of the respective elements of $ x $ and $ y $ together. If we were use the Python add `+` operator, it would merge the two lists. In a linear algebra/numeric computing context this is not what we want. "
   ]
  },
  {
   "cell_type": "code",
   "execution_count": 9,
   "id": "24d552ae-2b5b-4df3-9d21-bf4154bdb72e",
   "metadata": {},
   "outputs": [
    {
     "data": {
      "text/plain": [
       "[1.2, 5.4, 7.3, 3.2, 5.1, 2.8]"
      ]
     },
     "execution_count": 9,
     "metadata": {},
     "output_type": "execute_result"
    }
   ],
   "source": [
    "x = [1.2, 5.4, 7.3]\n",
    "y = [3.2, 5.1, 2.8]\n",
    "\n",
    "x + y "
   ]
  },
  {
   "cell_type": "markdown",
   "id": "0fc2946d-4c07-4e2b-a92a-44bc02f40289",
   "metadata": {},
   "source": [
    "To achieve this in plain Python, we would have to use a `for` loop or list comprehension with a `zip()` like below:  "
   ]
  },
  {
   "cell_type": "code",
   "execution_count": 10,
   "id": "0ccbdd93-666e-49ab-99ec-a66a2931a9f9",
   "metadata": {},
   "outputs": [
    {
     "data": {
      "text/plain": [
       "[4.4, 10.5, 10.1]"
      ]
     },
     "execution_count": 10,
     "metadata": {},
     "output_type": "execute_result"
    }
   ],
   "source": [
    "x = [1.2, 5.4, 7.3]\n",
    "y = [3.2, 5.1, 2.8]\n",
    "\n",
    "[_x + _y for _x,_y in zip(x,y)]"
   ]
  },
  {
   "cell_type": "markdown",
   "id": "2f48d1c8-5c90-4d5c-af62-f47893b6d873",
   "metadata": {},
   "source": [
    "Not to mention, **Python is REALLY slow**. It is not performant at doing numeric computing in this manner. Python's computational efficiencies comes from the low-level libraries like NumPy which are written in C. \n",
    "\n",
    "So what would this look like with NumPy using its `ndarray` type? Let's take a look. "
   ]
  },
  {
   "cell_type": "code",
   "execution_count": 6,
   "id": "e3f5f446-2c9f-411d-af51-ba94fb0b7f77",
   "metadata": {},
   "outputs": [
    {
     "data": {
      "text/plain": [
       "array([ 4.4, 10.5, 10.1])"
      ]
     },
     "execution_count": 6,
     "metadata": {},
     "output_type": "execute_result"
    }
   ],
   "source": [
    "import numpy as np \n",
    "\n",
    "x = np.array([1.2, 5.4, 7.3])\n",
    "y = np.array([3.2, 5.1, 2.8])\n",
    "\n",
    "x + y "
   ]
  },
  {
   "cell_type": "markdown",
   "id": "63f54960-0277-4235-9dbf-874d54f227e8",
   "metadata": {},
   "source": [
    "Note how we bring in `numpy` and alias it as `np`, a common best practice. We then declare two arrays using the `array()` functions and pass two lists of numeric values to it. We can then proceed to add the the two arrays together using the `+` operator. \n",
    "\n",
    "This **vectorized** approach to doing mathematical operations is a lot more efficient and convenient, avoiding a lot of `for` loops as well as leveraging efficiencies in NumPy.More specifically, NumPy is optimized to handle lists or grids of numbers, and performing mathematical operations with other lists or grids of numbers.  When we got lots of data, and take advantage of the fact CPU's and GPU's can do math more efficiently on multiple values at once, vectorization becomes a must-have. \n",
    "\n",
    "You may hear a list of numbers referred to as a **vector**, and a grid of numbers in two or more dimensions referred to as a **matrix** or **tensor**. "
   ]
  },
  {
   "cell_type": "markdown",
   "id": "2867a8eb-7e07-483c-bf84-adb33ecf7db3",
   "metadata": {},
   "source": [
    "## Declaring an Array "
   ]
  },
  {
   "cell_type": "markdown",
   "id": "f04e17d9-6156-4638-8cb6-54c5488a97d0",
   "metadata": {},
   "source": [
    "Let's dive into the array more, or more specifically the `ndarray`. This is probably the most fundamental data type in NumPy. As we saw earlier, we can declare it using a simple numeric list passed to the `array()` function. "
   ]
  },
  {
   "cell_type": "code",
   "execution_count": 21,
   "id": "37b9b616-009f-4544-850d-52f1462cc45a",
   "metadata": {},
   "outputs": [
    {
     "data": {
      "text/plain": [
       "array([ 6,  1, 17,  3,  0,  3])"
      ]
     },
     "execution_count": 21,
     "metadata": {},
     "output_type": "execute_result"
    }
   ],
   "source": [
    "x = np.array([6, 1, 17, 3, 0, 3]) \n",
    "x"
   ]
  },
  {
   "cell_type": "code",
   "execution_count": 23,
   "id": "66b9da21-ca37-44de-8a57-bd0cb35b467a",
   "metadata": {},
   "outputs": [
    {
     "data": {
      "text/plain": [
       "numpy.ndarray"
      ]
     },
     "execution_count": 23,
     "metadata": {},
     "output_type": "execute_result"
    }
   ],
   "source": [
    "type(x)"
   ]
  },
  {
   "cell_type": "markdown",
   "id": "9b2d9bc4-d991-45e2-b5d1-e49c5df1a8ab",
   "metadata": {},
   "source": [
    "That is a 1-dimensional array. An array can have 0 dimensions, meaning it is just a single scalar value. "
   ]
  },
  {
   "cell_type": "code",
   "execution_count": 24,
   "id": "eb97c473-2e35-42a5-9b86-9ed968cadf38",
   "metadata": {
    "scrolled": true
   },
   "outputs": [
    {
     "data": {
      "text/plain": [
       "array(5)"
      ]
     },
     "execution_count": 24,
     "metadata": {},
     "output_type": "execute_result"
    }
   ],
   "source": [
    "np.array(5)"
   ]
  },
  {
   "cell_type": "markdown",
   "id": "f377c380-13fb-4083-8b80-a40a6878f878",
   "metadata": {},
   "source": [
    "We can also make a 2-dimensional array, meaning we have an array consisting of rows and columns. You can do this by nesting lists `[]` inside a list `[[]]`. "
   ]
  },
  {
   "cell_type": "code",
   "execution_count": 26,
   "id": "3dc4c1a0-5e1c-4af1-bb78-2d454c18712b",
   "metadata": {
    "scrolled": true
   },
   "outputs": [
    {
     "data": {
      "text/plain": [
       "array([[ 6,  1, 17],\n",
       "       [ 3,  0,  3]])"
      ]
     },
     "execution_count": 26,
     "metadata": {},
     "output_type": "execute_result"
    }
   ],
   "source": [
    "x = np.array([[6, 1, 17], \n",
    "              [3, 0, 3]]) \n",
    "x"
   ]
  },
  {
   "cell_type": "markdown",
   "id": "55c099f5-3e86-41d6-86d9-d1aff2976115",
   "metadata": {},
   "source": [
    "You can get really crazy, declaring higher-dimensional tensors where you have stacks and stacks of numeric grids representing images and video data. Below we have a 3x3 pixel image stored as a tensor, where each red-green-blue channel is represented in three sub-layers. The point is... you can get crazy with how you ingest data and store it in higher-dimensional numeric patterns. "
   ]
  },
  {
   "cell_type": "code",
   "execution_count": 36,
   "id": "a5932acd-b40a-4210-81b0-0e516c31ac8f",
   "metadata": {},
   "outputs": [
    {
     "data": {
      "text/plain": [
       "array([[[ 0,  1,  3],\n",
       "        [ 6,  2,  6],\n",
       "        [ 1,  5,  4]],\n",
       "\n",
       "       [[ 8,  3, 19],\n",
       "        [33, 34, 11],\n",
       "        [13, 14, 89]],\n",
       "\n",
       "       [[14, 68, 17],\n",
       "        [66, 84, 92],\n",
       "        [ 4,  2, 58]]])"
      ]
     },
     "execution_count": 36,
     "metadata": {},
     "output_type": "execute_result"
    }
   ],
   "source": [
    "my_image = np.array([\n",
    "    [[0, 1, 3],\n",
    "     [6, 2, 6], \n",
    "     [1, 5, 4]], \n",
    "    [[8, 3, 19],\n",
    "     [33, 34, 11], \n",
    "     [13, 14, 89]], \n",
    "    [[14, 68, 17],\n",
    "     [66, 84, 92], \n",
    "     [4, 2, 58]]\n",
    "])\n",
    "\n",
    "my_image"
   ]
  },
  {
   "cell_type": "markdown",
   "id": "b67c27b4-5b89-4316-842a-f5cb654c69f2",
   "metadata": {},
   "source": [
    "## Differences from Pandas "
   ]
  },
  {
   "cell_type": "code",
   "execution_count": null,
   "id": "acdf1dad-9ecf-4fdf-9622-4b4a5585da9c",
   "metadata": {},
   "outputs": [],
   "source": []
  },
  {
   "cell_type": "markdown",
   "id": "279d0aa3-ffed-4617-9c29-89784cf65b24",
   "metadata": {},
   "source": [
    "## Honorable Mention to SymPy "
   ]
  },
  {
   "cell_type": "markdown",
   "id": "b61c3a23-4b06-45dd-b67a-7aa36d04f4a8",
   "metadata": {},
   "source": [
    "Little-known trick. If you `pip install sympy` and use the `Matrix` function, your Jupyter notebook will format the `ndarray` quite nicely. SymPy is a great library for doing symbolic math, which has benefits for exploring but is not scalable and efficient as NumPy. "
   ]
  },
  {
   "cell_type": "code",
   "execution_count": 35,
   "id": "a0608ea8-2eb7-4c04-8ade-c73ff97f2ae1",
   "metadata": {},
   "outputs": [
    {
     "ename": "NotImplementedError",
     "evalue": "SymPy supports just 1D and 2D matrices",
     "output_type": "error",
     "traceback": [
      "\u001b[0;31m---------------------------------------------------------------------------\u001b[0m",
      "\u001b[0;31mNotImplementedError\u001b[0m                       Traceback (most recent call last)",
      "Cell \u001b[0;32mIn[35], line 2\u001b[0m\n\u001b[1;32m      1\u001b[0m \u001b[38;5;28;01mfrom\u001b[39;00m \u001b[38;5;21;01msympy\u001b[39;00m \u001b[38;5;28;01mimport\u001b[39;00m Matrix\n\u001b[0;32m----> 2\u001b[0m \u001b[43mMatrix\u001b[49m\u001b[43m(\u001b[49m\u001b[43mmy_image\u001b[49m\u001b[43m)\u001b[49m \n",
      "File \u001b[0;32m~/git/anaconda_intro_to_numpy/venv/lib/python3.12/site-packages/sympy/matrices/repmatrix.py:329\u001b[0m, in \u001b[0;36mMutableRepMatrix.__new__\u001b[0;34m(cls, *args, **kwargs)\u001b[0m\n\u001b[1;32m    328\u001b[0m \u001b[38;5;28;01mdef\u001b[39;00m \u001b[38;5;21m__new__\u001b[39m(\u001b[38;5;28mcls\u001b[39m, \u001b[38;5;241m*\u001b[39margs, \u001b[38;5;241m*\u001b[39m\u001b[38;5;241m*\u001b[39mkwargs):\n\u001b[0;32m--> 329\u001b[0m     \u001b[38;5;28;01mreturn\u001b[39;00m \u001b[38;5;28;43mcls\u001b[39;49m\u001b[38;5;241;43m.\u001b[39;49m\u001b[43m_new\u001b[49m\u001b[43m(\u001b[49m\u001b[38;5;241;43m*\u001b[39;49m\u001b[43margs\u001b[49m\u001b[43m,\u001b[49m\u001b[43m \u001b[49m\u001b[38;5;241;43m*\u001b[39;49m\u001b[38;5;241;43m*\u001b[39;49m\u001b[43mkwargs\u001b[49m\u001b[43m)\u001b[49m\n",
      "File \u001b[0;32m~/git/anaconda_intro_to_numpy/venv/lib/python3.12/site-packages/sympy/matrices/repmatrix.py:340\u001b[0m, in \u001b[0;36mMutableRepMatrix._new\u001b[0;34m(cls, copy, *args, **kwargs)\u001b[0m\n\u001b[1;32m    338\u001b[0m     rows, cols, flat_list \u001b[38;5;241m=\u001b[39m args\n\u001b[1;32m    339\u001b[0m \u001b[38;5;28;01melse\u001b[39;00m:\n\u001b[0;32m--> 340\u001b[0m     rows, cols, flat_list \u001b[38;5;241m=\u001b[39m \u001b[38;5;28;43mcls\u001b[39;49m\u001b[38;5;241;43m.\u001b[39;49m\u001b[43m_handle_creation_inputs\u001b[49m\u001b[43m(\u001b[49m\u001b[38;5;241;43m*\u001b[39;49m\u001b[43margs\u001b[49m\u001b[43m,\u001b[49m\u001b[43m \u001b[49m\u001b[38;5;241;43m*\u001b[39;49m\u001b[38;5;241;43m*\u001b[39;49m\u001b[43mkwargs\u001b[49m\u001b[43m)\u001b[49m\n\u001b[1;32m    341\u001b[0m     flat_list \u001b[38;5;241m=\u001b[39m \u001b[38;5;28mlist\u001b[39m(flat_list) \u001b[38;5;66;03m# create a shallow copy\u001b[39;00m\n\u001b[1;32m    343\u001b[0m rep \u001b[38;5;241m=\u001b[39m \u001b[38;5;28mcls\u001b[39m\u001b[38;5;241m.\u001b[39m_flat_list_to_DomainMatrix(rows, cols, flat_list)\n",
      "File \u001b[0;32m~/git/anaconda_intro_to_numpy/venv/lib/python3.12/site-packages/sympy/matrices/matrices.py:960\u001b[0m, in \u001b[0;36mMatrixBase._handle_creation_inputs\u001b[0;34m(cls, *args, **kwargs)\u001b[0m\n\u001b[1;32m    958\u001b[0m \u001b[38;5;66;03m# Matrix(numpy.ones((2, 2)))\u001b[39;00m\n\u001b[1;32m    959\u001b[0m \u001b[38;5;28;01melif\u001b[39;00m \u001b[38;5;28mhasattr\u001b[39m(args[\u001b[38;5;241m0\u001b[39m], \u001b[38;5;124m\"\u001b[39m\u001b[38;5;124m__array__\u001b[39m\u001b[38;5;124m\"\u001b[39m):\n\u001b[0;32m--> 960\u001b[0m     \u001b[38;5;28;01mreturn\u001b[39;00m \u001b[38;5;28;43mcls\u001b[39;49m\u001b[38;5;241;43m.\u001b[39;49m\u001b[43m_handle_ndarray\u001b[49m\u001b[43m(\u001b[49m\u001b[43margs\u001b[49m\u001b[43m[\u001b[49m\u001b[38;5;241;43m0\u001b[39;49m\u001b[43m]\u001b[49m\u001b[43m)\u001b[49m\n\u001b[1;32m    962\u001b[0m \u001b[38;5;66;03m# Matrix([1, 2, 3]) or Matrix([[1, 2], [3, 4]])\u001b[39;00m\n\u001b[1;32m    963\u001b[0m \u001b[38;5;28;01melif\u001b[39;00m is_sequence(args[\u001b[38;5;241m0\u001b[39m]) \\\n\u001b[1;32m    964\u001b[0m         \u001b[38;5;129;01mand\u001b[39;00m \u001b[38;5;129;01mnot\u001b[39;00m \u001b[38;5;28misinstance\u001b[39m(args[\u001b[38;5;241m0\u001b[39m], DeferredVector):\n",
      "File \u001b[0;32m~/git/anaconda_intro_to_numpy/venv/lib/python3.12/site-packages/sympy/matrices/matrices.py:885\u001b[0m, in \u001b[0;36mMatrixBase._handle_ndarray\u001b[0;34m(cls, arg)\u001b[0m\n\u001b[1;32m    883\u001b[0m     \u001b[38;5;28;01mreturn\u001b[39;00m arr\u001b[38;5;241m.\u001b[39mshape[\u001b[38;5;241m0\u001b[39m], \u001b[38;5;241m1\u001b[39m, flat_list\n\u001b[1;32m    884\u001b[0m \u001b[38;5;28;01melse\u001b[39;00m:\n\u001b[0;32m--> 885\u001b[0m     \u001b[38;5;28;01mraise\u001b[39;00m \u001b[38;5;167;01mNotImplementedError\u001b[39;00m(\n\u001b[1;32m    886\u001b[0m         \u001b[38;5;124m\"\u001b[39m\u001b[38;5;124mSymPy supports just 1D and 2D matrices\u001b[39m\u001b[38;5;124m\"\u001b[39m)\n",
      "\u001b[0;31mNotImplementedError\u001b[0m: SymPy supports just 1D and 2D matrices"
     ]
    }
   ],
   "source": [
    "from sympy import Matrix\n",
    "Matrix(x) "
   ]
  },
  {
   "cell_type": "markdown",
   "id": "3dbd6ad6-1c51-4516-b91c-0c3f483e97b9",
   "metadata": {},
   "source": []
  }
 ],
 "metadata": {
  "kernelspec": {
   "display_name": "Python 3 (ipykernel)",
   "language": "python",
   "name": "python3"
  },
  "language_info": {
   "codemirror_mode": {
    "name": "ipython",
    "version": 3
   },
   "file_extension": ".py",
   "mimetype": "text/x-python",
   "name": "python",
   "nbconvert_exporter": "python",
   "pygments_lexer": "ipython3",
   "version": "3.12.2"
  }
 },
 "nbformat": 4,
 "nbformat_minor": 5
}
