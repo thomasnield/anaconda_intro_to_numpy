{
 "cells": [
  {
   "cell_type": "markdown",
   "id": "fcc85c63-d281-4d36-9010-82e8db4ff542",
   "metadata": {},
   "source": [
    "# Creating and Indexing Arrays"
   ]
  },
  {
   "cell_type": "markdown",
   "id": "2486e8fe-7fd3-45c4-ba90-574d637acb5f",
   "metadata": {},
   "source": [
    "We will start with the most fundamental task in NumPy: creating and working with an array. An **array** is a vector, matrix, or tensor of numbers. In plain English, it is a grid of numeric values that we can efficiently perform numeric operations with, such as statistics or machine learning. \n",
    "\n"
   ]
  },
  {
   "cell_type": "markdown",
   "id": "ca60fc01-2451-45fd-bf89-29b809ec9713",
   "metadata": {},
   "source": [
    "## Why NumPy and Vectorization? "
   ]
  },
  {
   "cell_type": "markdown",
   "id": "b004a2eb-b6b8-4a2e-a65e-4b9e42d729b6",
   "metadata": {},
   "source": [
    "In Python, you may be familiar with collections like lists. We could take numbers, such as integers or floating point values, and put them inside lists like this. "
   ]
  },
  {
   "cell_type": "code",
   "execution_count": null,
   "id": "fd63bdbd-6923-4ad3-8474-d40d1e34b75c",
   "metadata": {},
   "outputs": [],
   "source": [
    "x = [1.2, 5.4, 7.3]\n",
    "y = [3.2, 5.1, 2.8]\n",
    "\n",
    "print(f\"x = {x}\")\n",
    "print(f\"y = {y}\")"
   ]
  },
  {
   "cell_type": "markdown",
   "id": "94888a02-11d8-45a0-9b0b-49dc35878e45",
   "metadata": {},
   "source": [
    "Now let's say we wanted to add each of the respective elements of $ x $ and $ y $ together. If we were use the Python add `+` operator, it would merge the two lists. In a linear algebra/numeric computing context this is not what we want. "
   ]
  },
  {
   "cell_type": "code",
   "execution_count": null,
   "id": "24d552ae-2b5b-4df3-9d21-bf4154bdb72e",
   "metadata": {},
   "outputs": [],
   "source": [
    "x = [1.2, 5.4, 7.3]\n",
    "y = [3.2, 5.1, 2.8]\n",
    "\n",
    "x + y "
   ]
  },
  {
   "cell_type": "markdown",
   "id": "0fc2946d-4c07-4e2b-a92a-44bc02f40289",
   "metadata": {},
   "source": [
    "To achieve this in plain Python, we would have to use a `for` loop or list comprehension with a `zip()` like below:  "
   ]
  },
  {
   "cell_type": "code",
   "execution_count": null,
   "id": "0ccbdd93-666e-49ab-99ec-a66a2931a9f9",
   "metadata": {},
   "outputs": [],
   "source": [
    "x = [1.2, 5.4, 7.3]\n",
    "y = [3.2, 5.1, 2.8]\n",
    "\n",
    "[_x + _y for _x,_y in zip(x,y)]"
   ]
  },
  {
   "cell_type": "markdown",
   "id": "2f48d1c8-5c90-4d5c-af62-f47893b6d873",
   "metadata": {},
   "source": [
    "Not to mention, **Python is REALLY slow**. It is not performant at doing numeric computing in this manner. Python's computational efficiencies comes from the low-level libraries like NumPy which are written in C. \n",
    "\n",
    "So what would this look like with NumPy using its `ndarray` type? Let's take a look. "
   ]
  },
  {
   "cell_type": "code",
   "execution_count": null,
   "id": "e3f5f446-2c9f-411d-af51-ba94fb0b7f77",
   "metadata": {},
   "outputs": [],
   "source": [
    "import numpy as np \n",
    "\n",
    "x = np.array([1.2, 5.4, 7.3])\n",
    "y = np.array([3.2, 5.1, 2.8])\n",
    "\n",
    "x + y "
   ]
  },
  {
   "cell_type": "markdown",
   "id": "63f54960-0277-4235-9dbf-874d54f227e8",
   "metadata": {},
   "source": [
    "Note how we bring in `numpy` and alias it as `np`, a common best practice. We then declare two arrays using the `array()` functions and pass two lists of numeric values to it. We can then proceed to add the the two arrays together using the `+` operator. \n",
    "\n",
    "This **vectorized** approach to doing mathematical operations is a lot more efficient and convenient, avoiding a lot of `for` loops and leveraging efficiencies in NumPy. More specifically, NumPy is optimized to handle lists or grids of numbers, and performing mathematical operations with other lists or grids of numbers.  Wtih data full of numeric values, we can take advantage of the fact CPU's and GPU's to do math more efficiently on multiple values at once. Therefore, vectorization is a requirement when you do tasks like machine learning.\n",
    "\n",
    "You may hear a list of numbers referred to as a **vector**, and a grid of numbers in two or more dimensions referred to as a **matrix** or **tensor**. Below is an example of a vector $ \\vec{v} $ and a matrix $ A $. \n",
    "\n",
    "$$\n",
    "\\Large \\vec{v} = \\begin{bmatrix} \\Large 3 \\\\ \\Large 2 \\\\ \\Large 7 \\end{bmatrix}\n",
    "$$\n",
    "\n",
    "$$\n",
    "\\Large A = \\begin{bmatrix} \\Large -1 & \\Large 1  \\\\ \\Large 0.5 & \\Large -2 \\end{bmatrix}\n",
    "$$\n",
    "\n",
    "\n",
    "> Linear algebra is a topic in itself, and you should [consider taking the Anaconda course on Linear Algebra](https://learning.anaconda.cloud/linear-algebra). "
   ]
  },
  {
   "cell_type": "markdown",
   "id": "2867a8eb-7e07-483c-bf84-adb33ecf7db3",
   "metadata": {},
   "source": [
    "## Declaring an Array "
   ]
  },
  {
   "cell_type": "markdown",
   "id": "f04e17d9-6156-4638-8cb6-54c5488a97d0",
   "metadata": {},
   "source": [
    "Let's dive into the array more, or more specifically the `ndarray`. This is probably the most fundamental data type in NumPy. As we saw earlier, we can declare it using a simple numeric list passed to the `array()` function. "
   ]
  },
  {
   "cell_type": "code",
   "execution_count": null,
   "id": "37b9b616-009f-4544-850d-52f1462cc45a",
   "metadata": {},
   "outputs": [],
   "source": [
    "x = np.array([6, 1, 17, 3, 0, 3]) \n",
    "x"
   ]
  },
  {
   "cell_type": "code",
   "execution_count": null,
   "id": "66b9da21-ca37-44de-8a57-bd0cb35b467a",
   "metadata": {},
   "outputs": [],
   "source": [
    "type(x)"
   ]
  },
  {
   "cell_type": "markdown",
   "id": "9b2d9bc4-d991-45e2-b5d1-e49c5df1a8ab",
   "metadata": {},
   "source": [
    "That is a 1-dimensional array. An array can have 0 dimensions, meaning it is just a single scalar value. "
   ]
  },
  {
   "cell_type": "code",
   "execution_count": null,
   "id": "eb97c473-2e35-42a5-9b86-9ed968cadf38",
   "metadata": {
    "scrolled": true
   },
   "outputs": [],
   "source": [
    "np.array(5)"
   ]
  },
  {
   "cell_type": "markdown",
   "id": "f377c380-13fb-4083-8b80-a40a6878f878",
   "metadata": {},
   "source": [
    "We can also make a 2-dimensional array, meaning we have an array consisting of rows and columns. You can do this by nesting lists `[]` inside a list `[[]]`. "
   ]
  },
  {
   "cell_type": "code",
   "execution_count": null,
   "id": "3dc4c1a0-5e1c-4af1-bb78-2d454c18712b",
   "metadata": {
    "scrolled": true
   },
   "outputs": [],
   "source": [
    "x = np.array([[6, 1, 17], \n",
    "              [3, 0, 3]]) \n",
    "x"
   ]
  },
  {
   "cell_type": "markdown",
   "id": "dfdc981e-2248-4567-901b-da685989f1cd",
   "metadata": {},
   "source": [
    "A common operation to check the array is to see its `shape`. We can see below this has 2 rows and 3 columns."
   ]
  },
  {
   "cell_type": "code",
   "execution_count": null,
   "id": "ae4b4ee5-66e9-4e15-a5e1-7b09e811307b",
   "metadata": {},
   "outputs": [],
   "source": [
    "x.shape"
   ]
  },
  {
   "cell_type": "markdown",
   "id": "21bcd26d-406d-4a46-b4ae-3652b0b678f2",
   "metadata": {},
   "source": [
    "We can also check the `dtype` of the array, which is the type of numeric values it is holding."
   ]
  },
  {
   "cell_type": "code",
   "execution_count": null,
   "id": "54b8da7f-797e-48d7-a5d9-f1e2e13fefdb",
   "metadata": {},
   "outputs": [],
   "source": [
    "x.dtype"
   ]
  },
  {
   "cell_type": "markdown",
   "id": "e2497d09-776a-46af-9b36-975fd169f71d",
   "metadata": {},
   "source": [
    "The datatype of the array is inferred from the list of numbers you provide, but you can also be explicit. If we wanted to declare an array of integers and force them to be `float32`, we can do that. "
   ]
  },
  {
   "cell_type": "code",
   "execution_count": null,
   "id": "7e96577e-f152-48d0-afb0-f9eaad8d75e3",
   "metadata": {},
   "outputs": [],
   "source": [
    "x = np.array([[6, 1, 17], \n",
    "              [3, 0, 3]], dtype='float32') \n",
    "x"
   ]
  },
  {
   "cell_type": "markdown",
   "id": "3eaf5ce4-8826-4cc1-b782-45a50702d44d",
   "metadata": {},
   "source": [
    "NumPy [supports many datatypes](https://numpy.org/doc/stable/reference/arrays.dtypes.html) including dates, times, and arbitrary data. Generally when starting out, you will work with floats and integers. The `8`, `16`, `32`, or `64` next to the type specifies how large the range that number can be (at the cost of more memory). An `int16` can hold any integer through $ -32768 $ through $ 32767 $, while `int64` can hold $ -2,147,483,648 $ to $ 2,147,483,647 $. \n",
    "\n",
    "Integers also have unsigned counterparts (meaning they can only be 0 or more, no negatives) with `uint8`, `uint16`, `uint32`, etc. "
   ]
  },
  {
   "cell_type": "markdown",
   "id": "76100124-af10-4d49-a865-ca10ad287bdb",
   "metadata": {},
   "source": [
    "## Declaring Higher-Dimensional Arrays"
   ]
  },
  {
   "cell_type": "markdown",
   "id": "55c099f5-3e86-41d6-86d9-d1aff2976115",
   "metadata": {},
   "source": [
    "You can get really crazy, declaring higher-dimensional tensors where you have stacks and stacks of numeric grids representing images and video data. Below we have a 3x3 pixel image stored as a tensor, where each red-green-blue channel is represented in three sub-layers. The point is... you can get crazy with how you ingest data and store it in higher-dimensional numeric patterns. "
   ]
  },
  {
   "cell_type": "code",
   "execution_count": null,
   "id": "a5932acd-b40a-4210-81b0-0e516c31ac8f",
   "metadata": {},
   "outputs": [],
   "source": [
    "my_image = np.array([\n",
    "    [[0, 1, 3],\n",
    "     [6, 2, 6], \n",
    "     [1, 5, 4]], \n",
    "    [[8, 3, 19],\n",
    "     [33, 34, 11], \n",
    "     [13, 14, 89]], \n",
    "    [[14, 68, 17],\n",
    "     [66, 84, 92], \n",
    "     [4, 2, 58]]\n",
    "])\n",
    "\n",
    "my_image"
   ]
  },
  {
   "cell_type": "markdown",
   "id": "9721428c-fccb-4a4b-bb36-4693c007c23d",
   "metadata": {},
   "source": [
    "We can get the number of dimensions for a given array using the `ndim` property. "
   ]
  },
  {
   "cell_type": "code",
   "execution_count": null,
   "id": "7bff8b4e-7d73-4559-9c84-f51d84a0fc2b",
   "metadata": {
    "scrolled": true
   },
   "outputs": [],
   "source": [
    "my_image.ndim"
   ]
  },
  {
   "cell_type": "markdown",
   "id": "6bce0dbf-0042-4fb5-aa35-fb8af09fb177",
   "metadata": {},
   "source": [
    "We can also get the `shape` of the array. "
   ]
  },
  {
   "cell_type": "code",
   "execution_count": null,
   "id": "c4a3f9c3-ac25-4a93-b7cd-593a4887a26d",
   "metadata": {},
   "outputs": [],
   "source": [
    "my_image.shape"
   ]
  },
  {
   "cell_type": "markdown",
   "id": "9581585a-4069-448b-b38b-09736805594c",
   "metadata": {},
   "source": [
    "We can create an array with a specified number of dimensions, and it will take that provided list and fit it into those dimensions. Below, we take two rows of data but specify it to be nested in 5 dimensions. "
   ]
  },
  {
   "cell_type": "code",
   "execution_count": null,
   "id": "e5858820-f26b-4bab-be50-0b690b022a33",
   "metadata": {},
   "outputs": [],
   "source": [
    "np.array([[1, 2, 3],[4,5,6]], ndmin=5)\n"
   ]
  },
  {
   "cell_type": "markdown",
   "id": "5e308cd5-1f35-4de3-be7f-c905e79c460e",
   "metadata": {},
   "source": [
    "## Common Methods to Create an Array"
   ]
  },
  {
   "cell_type": "markdown",
   "id": "3b084999-5ad4-4b1b-a327-36b83731ebe3",
   "metadata": {},
   "source": [
    "We will learn how to create arrays off of external data (like CSV's or SQL databases, for example). But here are a few other notable ways to create an array. \n",
    "\n",
    "It is common to intialize an array of just 0's. "
   ]
  },
  {
   "cell_type": "code",
   "execution_count": null,
   "id": "63e6362c-43fa-4f76-b3a9-ac991a842d41",
   "metadata": {},
   "outputs": [],
   "source": [
    "np.zeros(shape=(3,2), dtype='int8')"
   ]
  },
  {
   "cell_type": "markdown",
   "id": "4bbae6d5-3992-4ccb-9c53-c7c9865f0edc",
   "metadata": {},
   "source": [
    "We can also generate an array with random numbers, which is common for creating simulations or intializing weight values in a neural network. We will learn more about random number generation later. "
   ]
  },
  {
   "cell_type": "code",
   "execution_count": null,
   "id": "0e326402-b959-44b3-8f8f-0ed801afe771",
   "metadata": {},
   "outputs": [],
   "source": [
    "np.random.randint(6, size=(3,2))"
   ]
  },
  {
   "cell_type": "markdown",
   "id": "a43c1456-71c8-4966-8200-4abe95aac711",
   "metadata": {},
   "source": [
    "Another common function is `arange`, which will generate incremental values (with the `start` inclusive and the `end` exclusive) at a specified number of `step` (which defaults to `1`). "
   ]
  },
  {
   "cell_type": "code",
   "execution_count": null,
   "id": "7ba0e6a0-0ad9-46aa-8d91-26837de264b4",
   "metadata": {},
   "outputs": [],
   "source": [
    "np.arange(start=0, stop=10, step=2)"
   ]
  },
  {
   "cell_type": "markdown",
   "id": "a5b3a897-43f9-445b-91a5-8fc3f4286306",
   "metadata": {},
   "source": [
    "Similar to `arange` is the `linspace` function. Rather than specify a `step`, it specifies the number of evenly spaced numbers between an interval (with `endpoint` included by default). Below we get 40 evenly spaced points between `0` and `10` but we omit the `10` to make the end exclusive. "
   ]
  },
  {
   "cell_type": "code",
   "execution_count": null,
   "id": "08a672dc-0dab-4b9b-a22a-e98ddb315e0b",
   "metadata": {},
   "outputs": [],
   "source": [
    "np.linspace(start=0, stop=10, num=40, endpoint=False)"
   ]
  },
  {
   "cell_type": "code",
   "execution_count": null,
   "id": "9f4ddd36-5320-425e-9c2e-f3f68b772be0",
   "metadata": {},
   "outputs": [],
   "source": [
    "You will find `arange` and `linspace` are used a lot for plotting functions in `matplotlib`. There are many examples in the Anaconda course [Statistics and Hypothesis Testing](https://learning.anaconda.cloud/statistics-and-hypothesis-testing)."
   ]
  },
  {
   "cell_type": "markdown",
   "id": "b67c27b4-5b89-4316-842a-f5cb654c69f2",
   "metadata": {},
   "source": [
    "## Differences from pandas "
   ]
  },
  {
   "cell_type": "markdown",
   "id": "67f5e4d3-a24a-4218-a576-b0a12b20f27c",
   "metadata": {},
   "source": [
    "What makes NumPy different from Pandas? It is first important to establish that pandas and NumPy are not in competition. As a matter of fact, you will find it common to import a pandas `DataFrame` and turn into a NumPy `ndarray` which we will explore in a later section. They are just different tools used for different problems. Generally when you are working with a lot of tabular data (that is two-dimensional with simply rows and columns) of different datatypes, pandas is going to be your best bet for that task. Think spreadsheet tasks, and that is where pandas will excel (no pun intended). \n",
    "\n",
    "NumPy is going to be preferred when you are dealing with numerical data in higher dimensions, and you start to get intensive on the mathematical operations. Think importing images where each image has 3 layers (the red, green, and blue channels) and you have a whole stack of images representing frames in videos. This is definitely not something pandas is streamlined for, while NumPy will do this task more effectively. \n",
    "\n",
    "That being said you take any pandas `DataFrame` (or certain columns of it) and turn it into a Numpy `ndarray` using the `values` property. We will see this more in action later. "
   ]
  },
  {
   "cell_type": "code",
   "execution_count": null,
   "id": "aa3d1bda-6b16-433f-9cec-8467cd3c757b",
   "metadata": {},
   "outputs": [],
   "source": [
    "import pandas as pd\n",
    "import numpy as np \n",
    "\n",
    "df = pd.DataFrame({'x': [1, 2], 'y' : [3,4]})\n",
    "df"
   ]
  },
  {
   "cell_type": "code",
   "execution_count": null,
   "id": "a89f2971-6ad2-4c17-a934-d6c53bc0356f",
   "metadata": {},
   "outputs": [],
   "source": [
    "my_array = df.values\n",
    "my_array"
   ]
  },
  {
   "cell_type": "code",
   "execution_count": null,
   "id": "51bbe2bf-5aa4-4c51-8cb9-be98e4f25258",
   "metadata": {},
   "outputs": [],
   "source": [
    "type(my_array)"
   ]
  },
  {
   "cell_type": "markdown",
   "id": "d99aa1da-a9e4-47de-9854-0ab79d9011cb",
   "metadata": {},
   "source": [
    "## Exercise\n",
    "\n",
    "Create this matrix of numbers using a NumPy array, and put it in the cell below. \n",
    "\n",
    "$$\n",
    "\\Large A = \\begin{bmatrix} \\Large 7 & \\Large 1 & \\Large -3 \\\\ \\Large 2 & \\Large -2 & \\Large 31 \\end{bmatrix}\n",
    "$$"
   ]
  },
  {
   "cell_type": "code",
   "execution_count": null,
   "id": "5458289d-e5c8-4837-a21c-13c6d1ec12cc",
   "metadata": {},
   "outputs": [],
   "source": [
    "# Put your code here \n",
    "\n",
    "\n",
    "\n"
   ]
  },
  {
   "cell_type": "markdown",
   "id": "644ddfc0-ffef-4e55-9124-d266c855cd42",
   "metadata": {},
   "source": [
    "### SCROLL DOWN FOR ANSWER\n",
    "|<br>\n",
    "|<br>\n",
    "|<br>\n",
    "|<br>\n",
    "|<br>\n",
    "|<br>\n",
    "|<br>\n",
    "|<br>\n",
    "|<br>\n",
    "|<br>\n",
    "|<br>\n",
    "|<br>\n",
    "|<br>\n",
    "|<br>\n",
    "|<br>\n",
    "|<br>\n",
    "|<br>\n",
    "|<br>\n",
    "|<br>\n",
    "|<br>\n",
    "|<br>\n",
    "|<br>\n",
    "|<br>\n",
    "v "
   ]
  },
  {
   "cell_type": "code",
   "execution_count": null,
   "id": "38dc1dca-f81c-4a68-8134-455077924682",
   "metadata": {},
   "outputs": [],
   "source": [
    "import numpy as np \n",
    "\n",
    "A = np.array([\n",
    "    [7, 1, -3], \n",
    "    [2, -2, 31]\n",
    "])\n",
    "A "
   ]
  }
 ],
 "metadata": {
  "kernelspec": {
   "display_name": "Python 3 (ipykernel)",
   "language": "python",
   "name": "python3"
  },
  "language_info": {
   "codemirror_mode": {
    "name": "ipython",
    "version": 3
   },
   "file_extension": ".py",
   "mimetype": "text/x-python",
   "name": "python",
   "nbconvert_exporter": "python",
   "pygments_lexer": "ipython3",
   "version": "3.12.2"
  }
 },
 "nbformat": 4,
 "nbformat_minor": 5
}
