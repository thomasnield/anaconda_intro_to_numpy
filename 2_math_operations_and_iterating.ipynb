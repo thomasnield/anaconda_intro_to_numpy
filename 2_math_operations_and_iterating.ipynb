{
 "cells": [
  {
   "cell_type": "markdown",
   "id": "2c4d70f7-9cbe-495d-bf25-c3df5d47790a",
   "metadata": {},
   "source": [
    "# Indexing, Iterating, and Math with Arrays"
   ]
  },
  {
   "cell_type": "markdown",
   "id": "9f90984e-986a-4325-a923-ee5ad3c93d98",
   "metadata": {},
   "source": [
    "In this section we will learn how to perform some math operations and functions between NumPy arrays. We will also learn how to access individual elements within an array, as well as iterate these elements with `for` loops. "
   ]
  },
  {
   "cell_type": "markdown",
   "id": "d1312435-9eff-4bb4-9d3e-45a8b3e8d8e0",
   "metadata": {},
   "source": [
    "## Indexing Arrays"
   ]
  },
  {
   "cell_type": "markdown",
   "id": "60a8eb6c-cf61-435e-908b-c6c9dfe120fb",
   "metadata": {},
   "source": [
    "Let's declare an array of four integer elements. "
   ]
  },
  {
   "cell_type": "code",
   "execution_count": 1,
   "id": "41bdae29-f6b0-4904-83b0-c5c43dd0b61b",
   "metadata": {},
   "outputs": [],
   "source": [
    "import numpy as np \n",
    "\n",
    "a = np.array([67, 12, 19, 43])"
   ]
  },
  {
   "cell_type": "markdown",
   "id": "3e12c5d5-d9d7-4689-8714-a2d21ab3c468",
   "metadata": {},
   "source": [
    "Using 0-based indexing, we can access the first element. "
   ]
  },
  {
   "cell_type": "code",
   "execution_count": 2,
   "id": "2d234292-d0df-44a6-a04e-09c327431cf7",
   "metadata": {
    "scrolled": true
   },
   "outputs": [
    {
     "data": {
      "text/plain": [
       "67"
      ]
     },
     "execution_count": 2,
     "metadata": {},
     "output_type": "execute_result"
    }
   ],
   "source": [
    "a[0]"
   ]
  },
  {
   "cell_type": "markdown",
   "id": "04497bf3-de11-4787-8a71-f6e855e0bd52",
   "metadata": {},
   "source": [
    "We can access the third element. "
   ]
  },
  {
   "cell_type": "code",
   "execution_count": 3,
   "id": "6fb296e4-b13e-41b3-9512-50862535d4d4",
   "metadata": {},
   "outputs": [
    {
     "data": {
      "text/plain": [
       "19"
      ]
     },
     "execution_count": 3,
     "metadata": {},
     "output_type": "execute_result"
    }
   ],
   "source": [
    "a[2]"
   ]
  },
  {
   "cell_type": "markdown",
   "id": "60e6f708-fa58-4e2e-ad17-63f001db958a",
   "metadata": {},
   "source": [
    "We can also access the last element. "
   ]
  },
  {
   "cell_type": "code",
   "execution_count": 4,
   "id": "ec2bc3f3-4af3-41fd-ac8f-8d16b84b8937",
   "metadata": {},
   "outputs": [
    {
     "data": {
      "text/plain": [
       "43"
      ]
     },
     "execution_count": 4,
     "metadata": {},
     "output_type": "execute_result"
    }
   ],
   "source": [
    "a[-1]"
   ]
  },
  {
   "cell_type": "markdown",
   "id": "5ec01956-cd32-45fa-8e41-60072b09351a",
   "metadata": {},
   "source": [
    "Okay so what about arrays in higher dimensions? Here is a 2-dimensional array."
   ]
  },
  {
   "cell_type": "code",
   "execution_count": 8,
   "id": "72710b5f-0e6c-4a11-a8d8-12c2a238146e",
   "metadata": {
    "scrolled": true
   },
   "outputs": [
    {
     "data": {
      "text/plain": [
       "array([[  10,   20,   30,   40,   50],\n",
       "       [ 100,  200,  300,  400,  500],\n",
       "       [1000, 2000, 3000, 4000, 5000]])"
      ]
     },
     "execution_count": 8,
     "metadata": {},
     "output_type": "execute_result"
    }
   ],
   "source": [
    "b = np.array([[  10,   20,   30,   40,   50],\n",
    "              [ 100,  200,  300,  400,  500], \n",
    "              [1000, 2000, 3000, 4000, 5000]\n",
    "             ])\n",
    "\n",
    "b"
   ]
  },
  {
   "cell_type": "markdown",
   "id": "b5bef9df-1fad-4a9f-8717-70ebda54234e",
   "metadata": {},
   "source": [
    "We can access the first row. "
   ]
  },
  {
   "cell_type": "code",
   "execution_count": 9,
   "id": "ff525228-33d7-4279-b857-0fa63df41817",
   "metadata": {},
   "outputs": [
    {
     "data": {
      "text/plain": [
       "array([10, 20, 30, 40, 50])"
      ]
     },
     "execution_count": 9,
     "metadata": {},
     "output_type": "execute_result"
    }
   ],
   "source": [
    "b[0]"
   ]
  },
  {
   "cell_type": "markdown",
   "id": "ca8e7ee3-3fbd-4a1b-b31c-b042b2d09f37",
   "metadata": {},
   "source": [
    "we can access the third element in the second row using either of these syntaxes. "
   ]
  },
  {
   "cell_type": "code",
   "execution_count": 11,
   "id": "48ce040e-cc13-4638-bad4-93c94ba90470",
   "metadata": {},
   "outputs": [
    {
     "data": {
      "text/plain": [
       "300"
      ]
     },
     "execution_count": 11,
     "metadata": {},
     "output_type": "execute_result"
    }
   ],
   "source": [
    "b[1,2]"
   ]
  },
  {
   "cell_type": "code",
   "execution_count": 13,
   "id": "bd6f9d0f-7bc3-4e38-9d3d-88edb857ab06",
   "metadata": {},
   "outputs": [
    {
     "data": {
      "text/plain": [
       "300"
      ]
     },
     "execution_count": 13,
     "metadata": {},
     "output_type": "execute_result"
    }
   ],
   "source": [
    "b[1][2]"
   ]
  },
  {
   "cell_type": "markdown",
   "id": "2f781a2e-2436-49f7-8c45-36fabb147a2b",
   "metadata": {},
   "source": [
    "We can also use slicing to grab ranges of the array, but we will save this for a later section. Just know the option is there. "
   ]
  },
  {
   "cell_type": "code",
   "execution_count": 20,
   "id": "e3a43ad9-d8c2-4a0f-8494-594a53644b22",
   "metadata": {},
   "outputs": [
    {
     "data": {
      "text/plain": [
       "array([[ 40,  50],\n",
       "       [400, 500]])"
      ]
     },
     "execution_count": 20,
     "metadata": {},
     "output_type": "execute_result"
    }
   ],
   "source": [
    "b[0:2, 3:5]"
   ]
  },
  {
   "cell_type": "markdown",
   "id": "69a725b9-a367-4437-80c2-b6fc0a412960",
   "metadata": {},
   "source": [
    "And here is one final example for a 3-dimensional array grabbing the center-most item, the `34`. "
   ]
  },
  {
   "cell_type": "code",
   "execution_count": 21,
   "id": "5785dd02-91db-445b-88ac-aa3335dbd166",
   "metadata": {},
   "outputs": [
    {
     "data": {
      "text/plain": [
       "34"
      ]
     },
     "execution_count": 21,
     "metadata": {},
     "output_type": "execute_result"
    }
   ],
   "source": [
    "my_image = np.array([\n",
    "    [[0, 1, 3],\n",
    "     [6, 2, 6], \n",
    "     [1, 5, 4]], \n",
    "    \n",
    "    [[8, 3, 19],\n",
    "     [33, 34, 11], \n",
    "     [13, 14, 89]], \n",
    "    \n",
    "    [[14, 68, 17],\n",
    "     [66, 84, 92], \n",
    "     [4, 2, 58]]\n",
    "])\n",
    "\n",
    "my_image[1][1][1]"
   ]
  },
  {
   "cell_type": "markdown",
   "id": "a8620048-54bd-4426-a5b7-9c4e93bc473e",
   "metadata": {},
   "source": [
    "## Basic Math Operators"
   ]
  },
  {
   "cell_type": "markdown",
   "id": "2d3f92be-97e1-4a51-a3c7-a270778f59ca",
   "metadata": {},
   "source": [
    "Let's declare two different arrays, `a` and `b` which are 1-dimensional. "
   ]
  },
  {
   "cell_type": "code",
   "execution_count": 30,
   "id": "6fa1d961-c9e8-4969-819f-aca85988e66c",
   "metadata": {},
   "outputs": [
    {
     "data": {
      "text/plain": [
       "((3,), (3,), (3, 5), (3, 5))"
      ]
     },
     "execution_count": 30,
     "metadata": {},
     "output_type": "execute_result"
    }
   ],
   "source": [
    "a = np.array([.25, .5, .75])\n",
    "\n",
    "b = np.array([4, 10, 100])\n",
    "\n",
    "a.shape, b.shape, c.shape, d.shape"
   ]
  },
  {
   "cell_type": "markdown",
   "id": "5c1360a0-fd23-4e43-b526-92cbbed435a3",
   "metadata": {},
   "source": [
    "We can add two arrays, adding each respective element together. "
   ]
  },
  {
   "cell_type": "code",
   "execution_count": 32,
   "id": "b5919fc5-e53b-42a7-ba14-91e25b7f2fbe",
   "metadata": {},
   "outputs": [
    {
     "data": {
      "text/plain": [
       "array([  4.25,  10.5 , 100.75])"
      ]
     },
     "execution_count": 32,
     "metadata": {},
     "output_type": "execute_result"
    }
   ],
   "source": [
    "a + b"
   ]
  },
  {
   "cell_type": "markdown",
   "id": "94f241b5-28dd-43ea-9588-0edfa7029a41",
   "metadata": {},
   "source": [
    "We can also subtract."
   ]
  },
  {
   "cell_type": "code",
   "execution_count": 34,
   "id": "338cbe26-f212-43ee-ae16-7fee1a3663ec",
   "metadata": {},
   "outputs": [
    {
     "data": {
      "text/plain": [
       "array([ 3.75,  9.5 , 99.25])"
      ]
     },
     "execution_count": 34,
     "metadata": {},
     "output_type": "execute_result"
    }
   ],
   "source": [
    "b - a"
   ]
  },
  {
   "cell_type": "markdown",
   "id": "05f9866f-e959-4a7d-a6a5-37ee9d0351d3",
   "metadata": {},
   "source": [
    "Multiply each respective element. "
   ]
  },
  {
   "cell_type": "code",
   "execution_count": 35,
   "id": "f1358753-2d62-4af9-83ea-b5045fd48615",
   "metadata": {},
   "outputs": [
    {
     "data": {
      "text/plain": [
       "array([ 1.,  5., 75.])"
      ]
     },
     "execution_count": 35,
     "metadata": {},
     "output_type": "execute_result"
    }
   ],
   "source": [
    "a * b"
   ]
  },
  {
   "cell_type": "markdown",
   "id": "a74f7d58-d645-4bea-a677-28b6e22949fc",
   "metadata": {},
   "source": [
    "Or divide each respective element. "
   ]
  },
  {
   "cell_type": "code",
   "execution_count": 36,
   "id": "db0006a7-589e-41e7-805f-3331714670f8",
   "metadata": {
    "scrolled": true
   },
   "outputs": [
    {
     "data": {
      "text/plain": [
       "array([0.0625, 0.05  , 0.0075])"
      ]
     },
     "execution_count": 36,
     "metadata": {},
     "output_type": "execute_result"
    }
   ],
   "source": [
    "a / b"
   ]
  },
  {
   "cell_type": "markdown",
   "id": "e02c0513-0255-457e-a496-9b4b906a122a",
   "metadata": {},
   "source": [
    "You can even set another array `a` to be the exponents for `b`. "
   ]
  },
  {
   "cell_type": "code",
   "execution_count": 48,
   "id": "1edc3bc1-8480-4c66-ac12-384d81f95c76",
   "metadata": {},
   "outputs": [
    {
     "data": {
      "text/plain": [
       "array([ 1.41421356,  3.16227766, 31.6227766 ])"
      ]
     },
     "execution_count": 48,
     "metadata": {},
     "output_type": "execute_result"
    }
   ],
   "source": [
    "b**a"
   ]
  },
  {
   "cell_type": "markdown",
   "id": "bbbdf178-68b9-4407-a795-f8b739bbbe93",
   "metadata": {},
   "source": [
    "You can also use a single scalar value with any of these operators. It will just operate that value to each element in an array. If we multiply `a` by `100`, it will multiply each element of `a` by `100`. "
   ]
  },
  {
   "cell_type": "code",
   "execution_count": 46,
   "id": "1ca21a8f-2042-457d-8dc6-3dca482ef1c3",
   "metadata": {},
   "outputs": [
    {
     "data": {
      "text/plain": [
       "array([25., 50., 75.])"
      ]
     },
     "execution_count": 46,
     "metadata": {},
     "output_type": "execute_result"
    }
   ],
   "source": [
    "100*a"
   ]
  },
  {
   "cell_type": "markdown",
   "id": "c5010811-b589-4308-9911-2ae7ca9f5c6f",
   "metadata": {},
   "source": [
    "And of course, you can perform several operations at once. "
   ]
  },
  {
   "cell_type": "code",
   "execution_count": 51,
   "id": "dd57335a-bcae-4224-abda-081e4bfff2e3",
   "metadata": {
    "scrolled": true
   },
   "outputs": [
    {
     "data": {
      "text/plain": [
       "array([ 3.0625,  5.25  , 25.5625])"
      ]
     },
     "execution_count": 51,
     "metadata": {},
     "output_type": "execute_result"
    }
   ],
   "source": [
    "a**2 - a*b + b "
   ]
  },
  {
   "cell_type": "markdown",
   "id": "b560719b-9a61-446d-8123-d5ddd9a53c59",
   "metadata": {},
   "source": [
    "## Matrix Multiplication"
   ]
  },
  {
   "cell_type": "markdown",
   "id": "d4515ee8-0d82-4b0a-b81c-58f4f3d9b29c",
   "metadata": {},
   "source": [
    "One mathematical operation that should be called out is **matrix multiplication** as well as **matrix-vector multiplication**. But first, let's see an animation of a vector being multiplied against a matrix. \n",
    "\n",
    "<video src=\"https://github.com/thomasnield/anaconda_linear_algebra/raw/main/media/07_MatrixVectorMultiplicationScene.mp4\" controls=\"controls\" style=\"max-width: 730px;\">\n",
    "</video>\n"
   ]
  },
  {
   "cell_type": "markdown",
   "id": "d1b36c87-4d3f-4197-8fa8-765be6b41a3c",
   "metadata": {},
   "source": [
    "Numerically, a matrix-vector multiplication will multiply each respective row with each respective column, and sum the products together respectively. This is a very common operation, especially in machine learning and deep learning.\n",
    "\n",
    "$ A\\vec{v} $\n",
    "\n",
    "$ = \\begin{bmatrix} 1 & 2 \\\\ -1 & 1 \\end{bmatrix} \\begin{bmatrix} 0.5 \\\\ 1.5 \\end{bmatrix} $\n",
    "\n",
    "$ = \\begin{bmatrix} (1)(0.5) + (2)(1.5) \\\\ (-1)(0.5) + (1)(1.5) \\end{bmatrix} $\n",
    "\n",
    "$ = \\begin{bmatrix} 3.5 \\\\ 1 \\end{bmatrix} $\n",
    "\n",
    "This is executed using the `@` operator in NumPy. Note this is not commutative, and the order matters! In matrix-vector multiplication, the matrix is \"applied\" to the vector. "
   ]
  },
  {
   "cell_type": "code",
   "execution_count": 52,
   "id": "c6dec03f-ec81-4939-a9d5-fd930b324d08",
   "metadata": {},
   "outputs": [
    {
     "data": {
      "text/plain": [
       "array([3.5, 1. ])"
      ]
     },
     "execution_count": 52,
     "metadata": {},
     "output_type": "execute_result"
    }
   ],
   "source": [
    "import numpy as np \n",
    "\n",
    "A = np.array([[1,  2],\n",
    "              [-1, 1]])\n",
    "\n",
    "v = np.array([0.5, 1.5])\n",
    "\n",
    "w = A @ v \n",
    "w"
   ]
  },
  {
   "cell_type": "markdown",
   "id": "89b6b886-5cbf-4a34-ac54-db7482fdb1f0",
   "metadata": {},
   "source": [
    "There is also matrix multiplication, which does a similar operation but with two matrices. It combines each respective row of the first matrix with each respective column of the second matrix, and multiplies and sums the respective elements together. \n",
    "\n",
    "$\n",
    "\\begin{aligned}\n",
    "A &= BC \\\\\n",
    "&= \\begin{bmatrix} 0 & 1 \\\\ 1 & 0 \\end{bmatrix} \\begin{bmatrix} 2 & 1 \\\\ 0 & 1 \\end{bmatrix} \\\\ &= \\begin{bmatrix} (0 \\cdot 2) + (1 \\cdot 0) & (0 \\cdot 1) + (1 \\cdot 1) \\\\ (1 \\cdot 2) + (0 \\cdot 0) & (1 \\cdot 1) + (0 \\cdot 1) \\end{bmatrix} \\\\\n",
    "&= \\begin{bmatrix} 0 & 1 \\\\ 2 & 1 \\end{bmatrix}\n",
    "\\end{aligned}\n",
    "$"
   ]
  },
  {
   "cell_type": "markdown",
   "id": "8454726a-3522-47ca-85e0-40191535b68c",
   "metadata": {},
   "source": [
    "It too is executed using the `@` operator. "
   ]
  },
  {
   "cell_type": "code",
   "execution_count": null,
   "id": "f4d82fbf-f565-4635-9205-b062e10d247c",
   "metadata": {},
   "outputs": [],
   "source": [
    "import numpy as np \n",
    "\n",
    "v = np.array([1,1])\n",
    "\n",
    "B = np.array([[0,1],[1,0]])\n",
    "C = np.array([[2,1],[0,1]])\n",
    "\n",
    "combined = C @ B \n",
    "\n",
    "combined @ v "
   ]
  },
  {
   "cell_type": "markdown",
   "id": "877e310f-06bd-4001-816b-19bee137ff0a",
   "metadata": {},
   "source": [
    "To learn more about these operations, check out the [Anaconda course on Linear Algebra](https://learning.anaconda.cloud/linear-algebra). It has spiffy animations too. "
   ]
  },
  {
   "cell_type": "code",
   "execution_count": null,
   "id": "260e4101-dfae-4b7d-ae96-636cc1c792ee",
   "metadata": {},
   "outputs": [],
   "source": []
  }
 ],
 "metadata": {
  "kernelspec": {
   "display_name": "Python 3 (ipykernel)",
   "language": "python",
   "name": "python3"
  },
  "language_info": {
   "codemirror_mode": {
    "name": "ipython",
    "version": 3
   },
   "file_extension": ".py",
   "mimetype": "text/x-python",
   "name": "python",
   "nbconvert_exporter": "python",
   "pygments_lexer": "ipython3",
   "version": "3.12.2"
  }
 },
 "nbformat": 4,
 "nbformat_minor": 5
}
