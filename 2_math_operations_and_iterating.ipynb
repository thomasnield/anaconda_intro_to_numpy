{
 "cells": [
  {
   "cell_type": "markdown",
   "id": "2c4d70f7-9cbe-495d-bf25-c3df5d47790a",
   "metadata": {},
   "source": [
    "# Indexing, Iterating, and Math with Arrays"
   ]
  },
  {
   "cell_type": "markdown",
   "id": "9f90984e-986a-4325-a923-ee5ad3c93d98",
   "metadata": {},
   "source": [
    "In this section we will learn how to perform some math operations and functions between NumPy arrays. We will also learn how to access individual elements within an array, as well as iterate these elements with `for` loops. "
   ]
  },
  {
   "cell_type": "markdown",
   "id": "d1312435-9eff-4bb4-9d3e-45a8b3e8d8e0",
   "metadata": {},
   "source": [
    "## Indexing Arrays"
   ]
  },
  {
   "cell_type": "code",
   "execution_count": null,
   "id": "0790d948-c614-4aff-9d2b-c5323c8ae2f0",
   "metadata": {},
   "outputs": [],
   "source": []
  }
 ],
 "metadata": {
  "kernelspec": {
   "display_name": "Python 3 (ipykernel)",
   "language": "python",
   "name": "python3"
  },
  "language_info": {
   "codemirror_mode": {
    "name": "ipython",
    "version": 3
   },
   "file_extension": ".py",
   "mimetype": "text/x-python",
   "name": "python",
   "nbconvert_exporter": "python",
   "pygments_lexer": "ipython3",
   "version": "3.12.2"
  }
 },
 "nbformat": 4,
 "nbformat_minor": 5
}
