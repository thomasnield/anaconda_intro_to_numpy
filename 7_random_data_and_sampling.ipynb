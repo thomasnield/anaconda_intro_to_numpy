{
 "cells": [
  {
   "cell_type": "markdown",
   "id": "7e4db5dd-d840-402c-83cb-5ec51d2fb26d",
   "metadata": {},
   "source": [
    "# Random Data and Sampling "
   ]
  },
  {
   "cell_type": "markdown",
   "id": "f9a5e99f-e85c-4698-9c57-fe151c3934b6",
   "metadata": {},
   "source": [
    "In this final section, we will talk about random data and sampling. A lot of fun can be had with random data, especially when creating Monte Carlo simulations and games. \n",
    "\n",
    "We will learn some basic random operations and then talk about probability distributions and simulations. "
   ]
  },
  {
   "cell_type": "markdown",
   "id": "3e7b72c6-487d-49a5-b1ec-5c32b7596471",
   "metadata": {},
   "source": [
    "## Why Use Random Data? "
   ]
  },
  {
   "cell_type": "markdown",
   "id": "d7203491-c745-4000-bd90-e15878996458",
   "metadata": {},
   "source": [
    "Using randomized data comes up a lot in data science and machine learning. In stochastic gradient descent, we train machine learning models iteratively and randomly sample one or more datapoints from a dataset in a loop. This is done because traversing an entire dataset in a loop is computationally expensive. We also see randomness used in other optimization algorithms, like hill climbing and simulated annealing. \n",
    "\n",
    "We can also use random data for Monte Carlo simulations, meaning we use random data to model real-life events. "
   ]
  },
  {
   "cell_type": "markdown",
   "id": "ae181b94-40fe-4019-8ca1-6ae2e7d3143a",
   "metadata": {},
   "source": [
    "## Monty Hall Problem with Monty Carlo"
   ]
  },
  {
   "cell_type": "markdown",
   "id": "a0ab4cb6-501a-4d92-93bd-0ba948009f8d",
   "metadata": {},
   "source": [
    "A **monty carlo** simulation is a type of model that uses randomized data to understand something in the real world. Let's put a new angle on the classic Monty Hall Problem, where a game show hosts presents a game contestant three doors. One of the doors has a price, the other three have goats. \n",
    "\n"
   ]
  },
  {
   "cell_type": "code",
   "execution_count": 95,
   "id": "357f96a4-6f12-4217-a5e7-bc040fcddd59",
   "metadata": {},
   "outputs": [],
   "source": [
    "import numpy as np \n",
    "\n",
    "n = 100\n",
    "\n",
    "prize_doors = np.random.choice(3, n)\n",
    "chosen_doors = np.random.choice(3, n)"
   ]
  },
  {
   "cell_type": "code",
   "execution_count": 96,
   "id": "96f5cd27-aaa0-4d5e-996d-2fd1c289dd32",
   "metadata": {},
   "outputs": [
    {
     "data": {
      "text/plain": [
       "array([2, 0, 0, 0, 2, 1, 0, 2, 2, 2, 2, 1, 0, 0, 0, 2, 1, 1, 1, 0, 0, 2,\n",
       "       2, 1, 2, 2, 2, 2, 1, 0, 2, 2, 0, 1, 0, 2, 2, 0, 1, 0, 0, 2, 0, 1,\n",
       "       2, 0, 1, 1, 2, 2, 1, 1, 1, 0, 1, 1, 0, 0, 1, 2, 1, 2, 2, 0, 2, 1,\n",
       "       2, 2, 1, 1, 2, 1, 2, 1, 1, 1, 2, 0, 0, 2, 0, 0, 2, 2, 0, 1, 0, 0,\n",
       "       2, 1, 1, 1, 0, 0, 1, 0, 1, 1, 0, 0])"
      ]
     },
     "execution_count": 96,
     "metadata": {},
     "output_type": "execute_result"
    }
   ],
   "source": [
    "prize_doors"
   ]
  },
  {
   "cell_type": "code",
   "execution_count": 97,
   "id": "c30a8e18-1af7-4bb7-a22e-c9c67686a248",
   "metadata": {},
   "outputs": [
    {
     "data": {
      "text/plain": [
       "array([0, 1, 0, 2, 1, 1, 2, 1, 2, 1, 2, 2, 2, 2, 0, 1, 2, 0, 0, 0, 1, 0,\n",
       "       2, 2, 2, 1, 0, 2, 1, 2, 0, 0, 2, 1, 1, 0, 2, 1, 2, 2, 2, 1, 2, 1,\n",
       "       1, 1, 1, 2, 0, 0, 2, 0, 0, 0, 2, 1, 2, 1, 1, 2, 2, 2, 0, 2, 0, 2,\n",
       "       1, 0, 1, 1, 2, 0, 2, 1, 1, 1, 0, 2, 0, 2, 1, 0, 1, 0, 0, 1, 1, 0,\n",
       "       2, 0, 2, 0, 2, 1, 0, 1, 0, 1, 2, 1])"
      ]
     },
     "execution_count": 97,
     "metadata": {},
     "output_type": "execute_result"
    }
   ],
   "source": [
    "chosen_doors"
   ]
  },
  {
   "cell_type": "code",
   "execution_count": 98,
   "id": "ab4a2d07-a2aa-4c31-a5b4-17603e40a6b6",
   "metadata": {},
   "outputs": [
    {
     "data": {
      "text/plain": [
       "array([1, 2, 1, 1, 0, 0, 1, 0, 0, 0, 0, 0, 1, 1, 1, 0, 0, 2, 2, 2, 2, 1,\n",
       "       1, 0, 0, 0, 1, 1, 0, 1, 1, 1, 1, 0, 2, 1, 0, 2, 0, 1, 1, 0, 1, 2,\n",
       "       0, 2, 0, 0, 1, 1, 0, 2, 2, 1, 0, 2, 1, 2, 0, 0, 0, 1, 1, 1, 1, 0,\n",
       "       0, 1, 0, 0, 1, 2, 1, 2, 0, 0, 1, 1, 1, 1, 2, 1, 0, 1, 1, 0, 2, 1,\n",
       "       0, 2, 0, 2, 1, 2, 2, 2, 2, 2, 1, 2])"
      ]
     },
     "execution_count": 98,
     "metadata": {},
     "output_type": "execute_result"
    }
   ],
   "source": [
    "opened_doors = np.zeros(n, dtype=int) \n",
    "\n",
    "for i in range(n): \n",
    "    doors = np.arange(0,3)\n",
    "    opened_doors[i] = np.random.choice(\n",
    "        doors[(doors != prize_doors[i]) & (doors != chosen_doors[i])]\n",
    "    )\n",
    "\n",
    "opened_doors"
   ]
  },
  {
   "cell_type": "code",
   "execution_count": 99,
   "id": "2977b16b-5a7b-44be-943b-03bd643ae36f",
   "metadata": {},
   "outputs": [
    {
     "data": {
      "text/plain": [
       "array([2, 0, 2, 0, 2, 2, 0, 2, 1, 2, 1, 1, 0, 0, 2, 2, 1, 1, 1, 1, 0, 2,\n",
       "       0, 1, 1, 2, 2, 0, 2, 0, 2, 2, 0, 2, 0, 2, 1, 0, 1, 0, 0, 2, 0, 0,\n",
       "       2, 0, 2, 1, 2, 2, 1, 1, 1, 2, 1, 0, 0, 0, 2, 1, 1, 0, 2, 0, 2, 1,\n",
       "       2, 2, 2, 2, 0, 1, 0, 0, 2, 2, 2, 0, 2, 0, 0, 2, 2, 2, 2, 2, 0, 2,\n",
       "       1, 1, 1, 1, 0, 0, 1, 0, 1, 0, 0, 0])"
      ]
     },
     "execution_count": 99,
     "metadata": {},
     "output_type": "execute_result"
    }
   ],
   "source": [
    "switch_doors = np.zeros(n, dtype=int) \n",
    "\n",
    "for i in range(n): \n",
    "    doors = np.arange(0,3)\n",
    "    switch_doors[i] = np.random.choice(\n",
    "        doors[(doors != chosen_doors[i]) & (doors != opened_doors[i])]\n",
    "    )\n",
    "\n",
    "switch_doors"
   ]
  },
  {
   "cell_type": "code",
   "execution_count": 100,
   "id": "a05ed72d-003e-46aa-9af1-25112bb4a6e6",
   "metadata": {},
   "outputs": [
    {
     "name": "stdout",
     "output_type": "stream",
     "text": [
      "STAY WINS: 34\n",
      "SWITCH WINS: 66\n"
     ]
    }
   ],
   "source": [
    "stay_wins = np.sum(chosen_doors == prize_doors) \n",
    "switch_wins = np.sum(switch_doors == prize_doors)\n",
    "\n",
    "print(f\"STAY WINS: {stay_wins}\")\n",
    "print(f\"SWITCH WINS: {switch_wins}\")"
   ]
  },
  {
   "cell_type": "code",
   "execution_count": null,
   "id": "e67d3628-ac26-4198-929f-1f1521ea39c1",
   "metadata": {},
   "outputs": [],
   "source": []
  }
 ],
 "metadata": {
  "kernelspec": {
   "display_name": "Python 3 (ipykernel)",
   "language": "python",
   "name": "python3"
  },
  "language_info": {
   "codemirror_mode": {
    "name": "ipython",
    "version": 3
   },
   "file_extension": ".py",
   "mimetype": "text/x-python",
   "name": "python",
   "nbconvert_exporter": "python",
   "pygments_lexer": "ipython3",
   "version": "3.12.2"
  }
 },
 "nbformat": 4,
 "nbformat_minor": 5
}
