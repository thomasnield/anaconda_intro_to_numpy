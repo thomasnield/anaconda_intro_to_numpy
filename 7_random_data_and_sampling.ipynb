{
 "cells": [
  {
   "cell_type": "markdown",
   "id": "7e4db5dd-d840-402c-83cb-5ec51d2fb26d",
   "metadata": {},
   "source": [
    "# Random Data and Sampling "
   ]
  },
  {
   "cell_type": "markdown",
   "id": "f9a5e99f-e85c-4698-9c57-fe151c3934b6",
   "metadata": {},
   "source": [
    "In this final section, we will talk about random data and sampling. A lot of fun can be had with random data, especially when creating Monte Carlo simulations and games. \n",
    "\n",
    "We will learn some basic random operations and then talk about probability distributions and simulations. "
   ]
  },
  {
   "cell_type": "markdown",
   "id": "3e7b72c6-487d-49a5-b1ec-5c32b7596471",
   "metadata": {},
   "source": [
    "## Why Use Random Data? "
   ]
  },
  {
   "cell_type": "markdown",
   "id": "d7203491-c745-4000-bd90-e15878996458",
   "metadata": {},
   "source": [
    "Using randomized data comes up a lot in data science and machine learning. In stochastic gradient descent, we train machine learning models iteratively and randomly sample one or mofrom numpy import random\n",
    "\n",
    "x = random.rand()\n",
    "\n",
    "print(x)re datapoints from a dataset in a loop. This is done because traversing an entire dataset in a loop is computationally expensive. We also see randomness used in other optimization algorithms, like hill climbing and simulated annealing. \n",
    "\n",
    "We can also use random data for Monte Carlo simulations, meaning we use random data to model real-life events.\n",
    "\n",
    "It is important to note that a **random number** is not generating a different number every time. Random means something that can not be predicted logically. Given that computers are logical machines, it is hard to reason how they can produce random numbers. Fortunately there are events like mouse movements, keystrokes, network data, system temperature, etc that can help produce **pseudo-random numbers**. Of course, when we use random numbers for cryptography and security there are concerns if the numbers are \"random enough\" but for our purposes of data science, these will be just fine. "
   ]
  },
  {
   "cell_type": "markdown",
   "id": "1abd305f-d8c2-4708-803b-fd3935b06c61",
   "metadata": {},
   "source": [
    "## Generating Random Numbers"
   ]
  },
  {
   "cell_type": "markdown",
   "id": "4f045c13-5c33-4b46-a69c-404e0ad2e1d3",
   "metadata": {},
   "source": [
    "To generate a random value between 0 and 1, we can use the `rand()` function inside the `random` package. "
   ]
  },
  {
   "cell_type": "code",
   "execution_count": 1,
   "id": "5915ad71-e507-47c3-947d-5725b040c8bc",
   "metadata": {},
   "outputs": [
    {
     "name": "stdout",
     "output_type": "stream",
     "text": [
      "0.43327516096110086\n"
     ]
    }
   ],
   "source": [
    "from numpy import random\n",
    "\n",
    "x = random.rand()\n",
    "\n",
    "print(x)"
   ]
  },
  {
   "cell_type": "markdown",
   "id": "e426e672-baf0-4113-ae6d-70024c8cd07c",
   "metadata": {},
   "source": [
    "You can also generate random values as arrays. "
   ]
  },
  {
   "cell_type": "code",
   "execution_count": 5,
   "id": "0d2c2556-f2af-4041-9f7b-48f5ed807eba",
   "metadata": {},
   "outputs": [
    {
     "data": {
      "text/plain": [
       "array([0.86471789, 0.09232875, 0.61160001, 0.2255342 , 0.09191982,\n",
       "       0.23998885, 0.96311939, 0.63955302, 0.55370427, 0.10073828])"
      ]
     },
     "execution_count": 5,
     "metadata": {},
     "output_type": "execute_result"
    }
   ],
   "source": [
    "random.rand(10)"
   ]
  },
  {
   "cell_type": "code",
   "execution_count": 6,
   "id": "b62c36c7-4843-4fda-9945-be4808c2cb62",
   "metadata": {},
   "outputs": [
    {
     "data": {
      "text/plain": [
       "array([[0.53058354, 0.39299023, 0.49832956],\n",
       "       [0.18252139, 0.19234588, 0.6260224 ],\n",
       "       [0.92645105, 0.21918684, 0.54714236]])"
      ]
     },
     "execution_count": 6,
     "metadata": {},
     "output_type": "execute_result"
    }
   ],
   "source": [
    "random.rand(3,3)"
   ]
  },
  {
   "cell_type": "markdown",
   "id": "2c452bfe-932d-4f9c-bdcf-e401b81f4b40",
   "metadata": {},
   "source": [
    "To use a different range between `a` and `b`, you can rescale the 0 and 1 to between that range. "
   ]
  },
  {
   "cell_type": "code",
   "execution_count": 15,
   "id": "0b111e32-a14a-45ab-8329-b5c105ac2de6",
   "metadata": {},
   "outputs": [
    {
     "data": {
      "text/plain": [
       "7.868489298104468"
      ]
     },
     "execution_count": 15,
     "metadata": {},
     "output_type": "execute_result"
    }
   ],
   "source": [
    "a,b = 5,10 \n",
    "a + random.rand()*(b-a)"
   ]
  },
  {
   "cell_type": "markdown",
   "id": "7b6492e7-bbe8-4099-bc29-5e45f35b4e1e",
   "metadata": {},
   "source": [
    "You can also just use the `uniform()` function and specify `low` and `high` as well as any dimensional arguments through the `size` parameter. "
   ]
  },
  {
   "cell_type": "code",
   "execution_count": 20,
   "id": "ee133881-46a8-4b4e-a336-a47b23556ff6",
   "metadata": {},
   "outputs": [
    {
     "data": {
      "text/plain": [
       "array([[9.71263241, 9.04219187, 8.60949481],\n",
       "       [6.42117743, 5.02409632, 5.49641781],\n",
       "       [7.89836869, 8.17329716, 9.61899516]])"
      ]
     },
     "execution_count": 20,
     "metadata": {},
     "output_type": "execute_result"
    }
   ],
   "source": [
    "random.uniform(low=5, high=10, size=(3, 3))"
   ]
  },
  {
   "cell_type": "markdown",
   "id": "a8881062-d11c-479a-a778-fad5d257859a",
   "metadata": {},
   "source": [
    "To generate random integers, use `randint()` in a similar manner. "
   ]
  },
  {
   "cell_type": "code",
   "execution_count": 24,
   "id": "dcef4dd7-9288-4518-a333-1712f383db69",
   "metadata": {},
   "outputs": [
    {
     "data": {
      "text/plain": [
       "array([[7, 9, 9],\n",
       "       [6, 9, 8],\n",
       "       [9, 7, 6]])"
      ]
     },
     "execution_count": 24,
     "metadata": {},
     "output_type": "execute_result"
    }
   ],
   "source": [
    "random.randint(low=5, high=10, size=(3,3), dtype=int)"
   ]
  },
  {
   "cell_type": "markdown",
   "id": "30a7943c-9a93-4b6e-b7fd-52aceb772304",
   "metadata": {},
   "source": [
    "## Generating Data from Probablility Distributions"
   ]
  },
  {
   "cell_type": "markdown",
   "id": "e869a3d5-cb82-4627-8606-162c4401b2e7",
   "metadata": {},
   "source": [
    "We saw earlier that we could generate data from a uniform distribution using `uniform()`, where any number in a range is equally likely. We can also use other probability distributions. These include, but are not limited to: \n",
    "\n",
    "* Normal\n",
    "* Binomial\n",
    "* Exponential\n",
    "* Poisson\n",
    "* Chi Square\n",
    "\n"
   ]
  },
  {
   "cell_type": "markdown",
   "id": "ae181b94-40fe-4019-8ca1-6ae2e7d3143a",
   "metadata": {},
   "source": [
    "## Monty Hall Problem with Monte Carlo"
   ]
  },
  {
   "cell_type": "markdown",
   "id": "a0ab4cb6-501a-4d92-93bd-0ba948009f8d",
   "metadata": {},
   "source": [
    "A **monte carlo** simulation is a type of model that uses randomized data to understand something in the real world. Let's put a new angle on the classic Monty Hall Problem, where a game show hosts presents a game contestant three doors. One of the doors has a price, the other three have goats. \n",
    "\n"
   ]
  },
  {
   "cell_type": "code",
   "execution_count": 95,
   "id": "357f96a4-6f12-4217-a5e7-bc040fcddd59",
   "metadata": {},
   "outputs": [],
   "source": [
    "import numpy as np \n",
    "\n",
    "n = 100\n",
    "\n",
    "prize_doors = np.random.choice(3, n)\n",
    "chosen_doors = np.random.choice(3, n)"
   ]
  },
  {
   "cell_type": "code",
   "execution_count": 96,
   "id": "96f5cd27-aaa0-4d5e-996d-2fd1c289dd32",
   "metadata": {},
   "outputs": [
    {
     "data": {
      "text/plain": [
       "array([2, 0, 0, 0, 2, 1, 0, 2, 2, 2, 2, 1, 0, 0, 0, 2, 1, 1, 1, 0, 0, 2,\n",
       "       2, 1, 2, 2, 2, 2, 1, 0, 2, 2, 0, 1, 0, 2, 2, 0, 1, 0, 0, 2, 0, 1,\n",
       "       2, 0, 1, 1, 2, 2, 1, 1, 1, 0, 1, 1, 0, 0, 1, 2, 1, 2, 2, 0, 2, 1,\n",
       "       2, 2, 1, 1, 2, 1, 2, 1, 1, 1, 2, 0, 0, 2, 0, 0, 2, 2, 0, 1, 0, 0,\n",
       "       2, 1, 1, 1, 0, 0, 1, 0, 1, 1, 0, 0])"
      ]
     },
     "execution_count": 96,
     "metadata": {},
     "output_type": "execute_result"
    }
   ],
   "source": [
    "prize_doors"
   ]
  },
  {
   "cell_type": "code",
   "execution_count": 97,
   "id": "c30a8e18-1af7-4bb7-a22e-c9c67686a248",
   "metadata": {},
   "outputs": [
    {
     "data": {
      "text/plain": [
       "array([0, 1, 0, 2, 1, 1, 2, 1, 2, 1, 2, 2, 2, 2, 0, 1, 2, 0, 0, 0, 1, 0,\n",
       "       2, 2, 2, 1, 0, 2, 1, 2, 0, 0, 2, 1, 1, 0, 2, 1, 2, 2, 2, 1, 2, 1,\n",
       "       1, 1, 1, 2, 0, 0, 2, 0, 0, 0, 2, 1, 2, 1, 1, 2, 2, 2, 0, 2, 0, 2,\n",
       "       1, 0, 1, 1, 2, 0, 2, 1, 1, 1, 0, 2, 0, 2, 1, 0, 1, 0, 0, 1, 1, 0,\n",
       "       2, 0, 2, 0, 2, 1, 0, 1, 0, 1, 2, 1])"
      ]
     },
     "execution_count": 97,
     "metadata": {},
     "output_type": "execute_result"
    }
   ],
   "source": [
    "chosen_doors"
   ]
  },
  {
   "cell_type": "code",
   "execution_count": 98,
   "id": "ab4a2d07-a2aa-4c31-a5b4-17603e40a6b6",
   "metadata": {},
   "outputs": [
    {
     "data": {
      "text/plain": [
       "array([1, 2, 1, 1, 0, 0, 1, 0, 0, 0, 0, 0, 1, 1, 1, 0, 0, 2, 2, 2, 2, 1,\n",
       "       1, 0, 0, 0, 1, 1, 0, 1, 1, 1, 1, 0, 2, 1, 0, 2, 0, 1, 1, 0, 1, 2,\n",
       "       0, 2, 0, 0, 1, 1, 0, 2, 2, 1, 0, 2, 1, 2, 0, 0, 0, 1, 1, 1, 1, 0,\n",
       "       0, 1, 0, 0, 1, 2, 1, 2, 0, 0, 1, 1, 1, 1, 2, 1, 0, 1, 1, 0, 2, 1,\n",
       "       0, 2, 0, 2, 1, 2, 2, 2, 2, 2, 1, 2])"
      ]
     },
     "execution_count": 98,
     "metadata": {},
     "output_type": "execute_result"
    }
   ],
   "source": [
    "opened_doors = np.zeros(n, dtype=int) \n",
    "\n",
    "for i in range(n): \n",
    "    doors = np.arange(0,3)\n",
    "    opened_doors[i] = np.random.choice(\n",
    "        doors[(doors != prize_doors[i]) & (doors != chosen_doors[i])]\n",
    "    )\n",
    "\n",
    "opened_doors"
   ]
  },
  {
   "cell_type": "code",
   "execution_count": 99,
   "id": "2977b16b-5a7b-44be-943b-03bd643ae36f",
   "metadata": {},
   "outputs": [
    {
     "data": {
      "text/plain": [
       "array([2, 0, 2, 0, 2, 2, 0, 2, 1, 2, 1, 1, 0, 0, 2, 2, 1, 1, 1, 1, 0, 2,\n",
       "       0, 1, 1, 2, 2, 0, 2, 0, 2, 2, 0, 2, 0, 2, 1, 0, 1, 0, 0, 2, 0, 0,\n",
       "       2, 0, 2, 1, 2, 2, 1, 1, 1, 2, 1, 0, 0, 0, 2, 1, 1, 0, 2, 0, 2, 1,\n",
       "       2, 2, 2, 2, 0, 1, 0, 0, 2, 2, 2, 0, 2, 0, 0, 2, 2, 2, 2, 2, 0, 2,\n",
       "       1, 1, 1, 1, 0, 0, 1, 0, 1, 0, 0, 0])"
      ]
     },
     "execution_count": 99,
     "metadata": {},
     "output_type": "execute_result"
    }
   ],
   "source": [
    "switch_doors = np.zeros(n, dtype=int) \n",
    "\n",
    "for i in range(n): \n",
    "    doors = np.arange(0,3)\n",
    "    switch_doors[i] = np.random.choice(\n",
    "        doors[(doors != chosen_doors[i]) & (doors != opened_doors[i])]\n",
    "    )\n",
    "\n",
    "switch_doors"
   ]
  },
  {
   "cell_type": "code",
   "execution_count": 100,
   "id": "a05ed72d-003e-46aa-9af1-25112bb4a6e6",
   "metadata": {},
   "outputs": [
    {
     "name": "stdout",
     "output_type": "stream",
     "text": [
      "STAY WINS: 34\n",
      "SWITCH WINS: 66\n"
     ]
    }
   ],
   "source": [
    "stay_wins = np.sum(chosen_doors == prize_doors) \n",
    "switch_wins = np.sum(switch_doors == prize_doors)\n",
    "\n",
    "print(f\"STAY WINS: {stay_wins}\")\n",
    "print(f\"SWITCH WINS: {switch_wins}\")"
   ]
  }
 ],
 "metadata": {
  "kernelspec": {
   "display_name": "Python 3 (ipykernel)",
   "language": "python",
   "name": "python3"
  },
  "language_info": {
   "codemirror_mode": {
    "name": "ipython",
    "version": 3
   },
   "file_extension": ".py",
   "mimetype": "text/x-python",
   "name": "python",
   "nbconvert_exporter": "python",
   "pygments_lexer": "ipython3",
   "version": "3.12.2"
  }
 },
 "nbformat": 4,
 "nbformat_minor": 5
}
