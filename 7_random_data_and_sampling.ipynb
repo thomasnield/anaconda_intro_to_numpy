{
 "cells": [
  {
   "cell_type": "markdown",
   "id": "7e4db5dd-d840-402c-83cb-5ec51d2fb26d",
   "metadata": {},
   "source": [
    "# Random Data and Sampling "
   ]
  },
  {
   "cell_type": "markdown",
   "id": "f9a5e99f-e85c-4698-9c57-fe151c3934b6",
   "metadata": {},
   "source": [
    "In this final section, we will talk about random data and sampling. A lot of fun can be had with random data, especially when creating Monte Carlo simulations and games. \n",
    "\n",
    "We will learn some basic random operations and then talk about probability distributions and simulations. "
   ]
  },
  {
   "cell_type": "markdown",
   "id": "3e7b72c6-487d-49a5-b1ec-5c32b7596471",
   "metadata": {},
   "source": [
    "## Why Use Random Data? "
   ]
  },
  {
   "cell_type": "markdown",
   "id": "d7203491-c745-4000-bd90-e15878996458",
   "metadata": {},
   "source": [
    "Using randomized data comes up a lot in data science and machine learning. In stochastic gradient descent, we train machine learning models iteratively and randomly sample one or mofrom numpy import random\n",
    "\n",
    "x = random.rand()\n",
    "\n",
    "print(x)re datapoints from a dataset in a loop. This is done because traversing an entire dataset in a loop is computationally expensive. We also see randomness used in other optimization algorithms, like hill climbing and simulated annealing. \n",
    "\n",
    "We can also use random data for Monte Carlo simulations, meaning we use random data to model real-life events.\n",
    "\n",
    "It is important to note that a **random number** is not generating a different number every time. Random means something that can not be predicted logically. Given that computers are logical machines, it is hard to reason how they can produce random numbers. Fortunately there are events like mouse movements, keystrokes, network data, system temperature, etc that can help produce **pseudo-random numbers**. Of course, when we use random numbers for cryptography and security there are concerns if the numbers are \"random enough\" but for our purposes of data science, these will be just fine. "
   ]
  },
  {
   "cell_type": "markdown",
   "id": "1abd305f-d8c2-4708-803b-fd3935b06c61",
   "metadata": {},
   "source": [
    "## Generating Random Numbers"
   ]
  },
  {
   "cell_type": "markdown",
   "id": "4f045c13-5c33-4b46-a69c-404e0ad2e1d3",
   "metadata": {},
   "source": [
    "To generate a random value between 0 and 1, we can use the `rand()` function inside the `random` package. "
   ]
  },
  {
   "cell_type": "code",
   "execution_count": null,
   "id": "5915ad71-e507-47c3-947d-5725b040c8bc",
   "metadata": {},
   "outputs": [],
   "source": [
    "from numpy import random\n",
    "\n",
    "x = random.rand()\n",
    "\n",
    "print(x)"
   ]
  },
  {
   "cell_type": "markdown",
   "id": "e426e672-baf0-4113-ae6d-70024c8cd07c",
   "metadata": {},
   "source": [
    "You can also generate random values as arrays. "
   ]
  },
  {
   "cell_type": "code",
   "execution_count": null,
   "id": "0d2c2556-f2af-4041-9f7b-48f5ed807eba",
   "metadata": {},
   "outputs": [],
   "source": [
    "random.rand(10)"
   ]
  },
  {
   "cell_type": "code",
   "execution_count": null,
   "id": "b62c36c7-4843-4fda-9945-be4808c2cb62",
   "metadata": {},
   "outputs": [],
   "source": [
    "random.rand(3,3)"
   ]
  },
  {
   "cell_type": "markdown",
   "id": "2c452bfe-932d-4f9c-bdcf-e401b81f4b40",
   "metadata": {},
   "source": [
    "To use a different range between `a` and `b`, you can rescale the 0 and 1 to between that range. "
   ]
  },
  {
   "cell_type": "code",
   "execution_count": null,
   "id": "0b111e32-a14a-45ab-8329-b5c105ac2de6",
   "metadata": {},
   "outputs": [],
   "source": [
    "a,b = 5,10 \n",
    "a + random.rand()*(b-a)"
   ]
  },
  {
   "cell_type": "markdown",
   "id": "7b6492e7-bbe8-4099-bc29-5e45f35b4e1e",
   "metadata": {},
   "source": [
    "You can also just use the `uniform()` function and specify `low` and `high` as well as any dimensional arguments through the `size` parameter. "
   ]
  },
  {
   "cell_type": "code",
   "execution_count": null,
   "id": "ee133881-46a8-4b4e-a336-a47b23556ff6",
   "metadata": {},
   "outputs": [],
   "source": [
    "random.uniform(low=5, high=10, size=(3, 3))"
   ]
  },
  {
   "cell_type": "markdown",
   "id": "a8881062-d11c-479a-a778-fad5d257859a",
   "metadata": {},
   "source": [
    "To generate random integers, use `randint()` in a similar manner. "
   ]
  },
  {
   "cell_type": "code",
   "execution_count": null,
   "id": "dcef4dd7-9288-4518-a333-1712f383db69",
   "metadata": {},
   "outputs": [],
   "source": [
    "random.randint(low=5, high=10, size=(3,3), dtype=int)"
   ]
  },
  {
   "cell_type": "markdown",
   "id": "30a7943c-9a93-4b6e-b7fd-52aceb772304",
   "metadata": {},
   "source": [
    "## Generating Data from Probablility Distributions"
   ]
  },
  {
   "cell_type": "markdown",
   "id": "e869a3d5-cb82-4627-8606-162c4401b2e7",
   "metadata": {},
   "source": [
    "We saw earlier that we could generate data from a uniform distribution using `uniform()`, where any number in a range is equally likely. We can also use other probability distributions. These include, but are not limited to: \n",
    "\n",
    "* Normal\n",
    "* Binomial\n",
    "* Exponential\n",
    "* Poisson\n",
    "* Chi Square\n",
    "\n",
    "We will cover a few of these for good measure. "
   ]
  },
  {
   "cell_type": "markdown",
   "id": "40ea5ada-3ccc-41b5-a53a-b1048ba5ec2a",
   "metadata": {},
   "source": [
    "## Normal Distribution"
   ]
  },
  {
   "cell_type": "markdown",
   "id": "b4f48334-13a9-4042-91a3-e855d709bc27",
   "metadata": {},
   "source": [
    "The **normal distribution** is a symmetrical, bell-shaped curve that appears in many natural and scientific phenomena. Even for data that does not follow the normal distribution, it still generalizes to a normal distribution due to the central limit theorem. \n",
    "\n",
    "Below we use matplotlib to plot the normal distribution's **probability density function (PDF)** which is the bell shaped curve showing how likely we expect each value (in hours). The probability density function (PDF) formula for a normal distribution is defined as...\n",
    "\n",
    "$ \\Large f(x) = \\frac{1}{\\sqrt{2\\pi\\sigma^2}} e^{-\\frac{(x-\\mu)^2}{2\\sigma^2}} $ \n",
    "\n",
    "where $ \\mu $ is the mean, $ \\sigma $ is the standard deviation, $ x $ is the input variable, and $ f(x) $ is the outputted likelihood. "
   ]
  },
  {
   "cell_type": "code",
   "execution_count": null,
   "id": "e44bc573-2ba3-4a99-8afd-6d46092f2ecb",
   "metadata": {},
   "outputs": [],
   "source": [
    "from scipy.stats import norm\n",
    "import numpy as np \n",
    "import matplotlib.pyplot as plt\n",
    "\n",
    "# define mean and standard deviation\n",
    "mean = 12\n",
    "std = 1\n",
    "\n",
    "# have axis range capture ± 3 standard deviations around mean \n",
    "x_range = np.arange(mean-std*3, mean+std*3, .01) \n",
    "\n",
    "# plot the normal PDF \n",
    "plt.plot(x_range, norm.pdf(x_range, mean, std)) # bell curve \n",
    "plt.show()"
   ]
  },
  {
   "cell_type": "markdown",
   "id": "6b7a24a9-858e-4fba-aea9-29540343dbef",
   "metadata": {},
   "source": [
    "**There are a couple of important properties surrounding the normal distribution.**\n",
    "\n",
    "* It is symmetrical down the center. \n",
    "* The top of the bell curve, the highest likelihood is at the mean.\n",
    "* How \"spread out\" the the tails are is defined by standard deviation.\n",
    "* The tails forever approach the x-axis but never reach it. \n",
    "* The area under the whole curve, like any probability distribution, is 1.0.\n",
    "\n",
    "For our purposes though, we want to generate random data off the normal distribution. We can do this easily by using the `normal()` functin inside the `random` package in NumPy. The mean is going to be `loc`, the standard deviation is going to be `scale`, and the `size` is the sample size to generate. "
   ]
  },
  {
   "cell_type": "code",
   "execution_count": null,
   "id": "c5ec037e-a1a9-480c-93b2-54b5440a744b",
   "metadata": {},
   "outputs": [],
   "source": [
    "import numpy as np \n",
    "\n",
    "x = np.random.normal(loc=12, scale=1, size=10)\n",
    "x"
   ]
  },
  {
   "cell_type": "markdown",
   "id": "5da4db9c-1b7a-41cc-87aa-76fd6f8b2c05",
   "metadata": {},
   "source": [
    "## Binomial Distribution"
   ]
  },
  {
   "cell_type": "markdown",
   "id": "f9af288c-cb80-4a10-8b0a-27103efff3dc",
   "metadata": {},
   "source": [
    "the **binomial distribution** which measures out of *n* trials, what is the probability for seeing *k* successes/events given *p* probability? Let's say we are testing how water-resistant a new smartphone we are developing is. I want to know how likely it is with a 90% success rate, we would see 8 working smartphones out of 10 that fell into a bucket of water. We can achieve this using the binomial. Below, we declare a binomial distribution in SciPy and specify the `k`, `n` and `x` value the last which will be 8 through the `pmf()` function. "
   ]
  },
  {
   "cell_type": "code",
   "execution_count": null,
   "id": "e0f12b2c-8800-4bab-901d-009416b4fa46",
   "metadata": {},
   "outputs": [],
   "source": [
    "from scipy.stats import binom\n",
    "\n",
    "# Set the number of trials and probability of success\n",
    "n = 10\n",
    "p = 0.9\n",
    "\n",
    "# Calculate the probability mass function (PMF)\n",
    "y = binom.pmf(8, n, p)\n",
    "\n",
    "print(\"What is the probability of 8 working devices out of 10?\")\n",
    "print(y) # 0.1937102445"
   ]
  },
  {
   "cell_type": "markdown",
   "id": "dccfd3ce-47ea-4cec-8344-0a7ede9f4e33",
   "metadata": {},
   "source": [
    "Now what if we wanted to randomly generate an outcome from the binomial distribution? I want to generate a number of successes based on 10 trials with 80% probability of success. I can do this with NumPy's `random` package using `binomial()`.  "
   ]
  },
  {
   "cell_type": "code",
   "execution_count": null,
   "id": "3bdd2aed-8a7e-4e2c-9b57-930114ecd9f4",
   "metadata": {},
   "outputs": [],
   "source": [
    "import numpy as np\n",
    "\n",
    "x = np.random.binomial(n=10, p=.9, size=1)\n",
    "x"
   ]
  },
  {
   "cell_type": "markdown",
   "id": "cb98bcae-c133-4a5b-98dc-8405ace7040a",
   "metadata": {},
   "source": [
    "I can also do this 25 times, where I simulate 25 instances of a random outcome where each has 10 trials."
   ]
  },
  {
   "cell_type": "code",
   "execution_count": null,
   "id": "58fdfb23-b5af-413f-b92a-f01c50e68e0b",
   "metadata": {},
   "outputs": [],
   "source": [
    "import numpy as np\n",
    "\n",
    "x = np.random.binomial(n=10, p=.9, size=25)\n",
    "\n",
    "print(x)"
   ]
  },
  {
   "cell_type": "markdown",
   "id": "1fc974fe-67e2-4fb7-9620-90288a271154",
   "metadata": {},
   "source": [
    "## Exponential Distribution "
   ]
  },
  {
   "cell_type": "markdown",
   "id": "344a5b74-577f-481f-860e-9c4decc96380",
   "metadata": {},
   "source": [
    "Another useful continuous distribution is the **exponential distribution**, which is often used to model how much time occurs between events given an average duration. The formula for the probability density function of an exponential distribution is...\n",
    "\n",
    "$ \\Large f(x) = \\lambda e^{-\\lambda x} $ \n",
    "\n",
    "where $ \\lambda $ is the average number of events to occur in a defined period. Let's say we release a YouTube video and we expect it will there will be on average 2 views every minute. How much time can we expect to occur between each view? This is what the exponential distribution helps us answer. \n",
    "\n",
    "Let's plot using SciPy as shown below. Note we have to input the lambda rate through the `scale` argument as $ \\frac{1}{\\lambda} $. "
   ]
  },
  {
   "cell_type": "code",
   "execution_count": null,
   "id": "fab57326-7f60-4634-aaee-036e0dac497e",
   "metadata": {},
   "outputs": [],
   "source": [
    "from scipy.stats import expon \n",
    "\n",
    "lambda_rate = 2 # mean views per minute \n",
    "\n",
    "x = np.arange(.01, 3, .01)\n",
    "y = expon.pdf(x, scale = 1/lambda_rate)\n",
    "\n",
    "plt.plot(x, y)\n",
    "plt.show()"
   ]
  },
  {
   "cell_type": "markdown",
   "id": "8268fc2f-1e11-440f-ae05-3d825538d2de",
   "metadata": {},
   "source": [
    "And of course, we can generate random data off the exponential distribution using `NumPy`. Here is a simulated example of generating the time between the next 30 views in minutes. "
   ]
  },
  {
   "cell_type": "code",
   "execution_count": null,
   "id": "1249ee70-c4bb-40b1-9297-a9780a649d9e",
   "metadata": {},
   "outputs": [],
   "source": [
    "import numpy as np\n",
    "\n",
    "lambda_rate = 2\n",
    "\n",
    "x = np.random.exponential(scale=1/lambda_rate, size=30)\n",
    "x"
   ]
  },
  {
   "cell_type": "markdown",
   "id": "a614e5f6-9ce9-4eab-9d4c-cf371ebefa8c",
   "metadata": {},
   "source": [
    "There are many, many other probability distributions available in NumPy to use. But this hopefully gives you an idea of what patterns to expect for both discrete (e.g., the Binomial Distribution) and continuous (e.g., the normal and exponential distributions). Let's learn about randomized data selection next. "
   ]
  },
  {
   "cell_type": "markdown",
   "id": "a1628391-2b6e-4c47-a20c-ae2474e08019",
   "metadata": {},
   "source": [
    "## Randomly Selecting Data "
   ]
  },
  {
   "cell_type": "markdown",
   "id": "716563ab-088a-43a9-a69c-12a226381c9b",
   "metadata": {},
   "source": [
    "In NumPy, there may be times you want to randomly choose an element out of an array. Let's say we have three prize doors 0, 1, and 2. We can use the `choice()` function in the random package to choose one of them with uniform probability. "
   ]
  },
  {
   "cell_type": "code",
   "execution_count": null,
   "id": "d5b256aa-4e48-41ac-a1f1-29ee61dadc79",
   "metadata": {},
   "outputs": [],
   "source": [
    "import numpy as np \n",
    "\n",
    "doors = np.array([0,1,2])\n",
    "chosen_door = np.random.choice(doors)\n",
    "\n",
    "chosen_door"
   ]
  },
  {
   "cell_type": "markdown",
   "id": "512f63d5-b522-4f50-be58-026c9899b3b1",
   "metadata": {},
   "source": [
    "Alternately, we can simply pass `a`, which is a positive integer of `3`. This would act the same as an `arange()` from 0 to that excluded max of `3`. "
   ]
  },
  {
   "cell_type": "code",
   "execution_count": null,
   "id": "6a12a1f1-aac6-45ab-b6e5-88e4d328d444",
   "metadata": {},
   "outputs": [],
   "source": [
    "import numpy as np \n",
    "\n",
    "chosen_door = np.random.choice(3)\n",
    "\n",
    "chosen_door"
   ]
  },
  {
   "cell_type": "markdown",
   "id": "23f8c809-9b0e-482c-9af2-0a72bb136856",
   "metadata": {},
   "source": [
    "We can also simulate this 10 times, and return an array of all the outcomes"
   ]
  },
  {
   "cell_type": "code",
   "execution_count": null,
   "id": "42bb0f11-f7be-4e4d-b921-82c1f7f66f0b",
   "metadata": {},
   "outputs": [],
   "source": [
    "import numpy as np \n",
    "\n",
    "chosen_doors = np.random.choice(a=3, size=10)\n",
    "\n",
    "chosen_doors"
   ]
  },
  {
   "cell_type": "markdown",
   "id": "4f19ffec-3cc8-42c2-8983-324372098cf2",
   "metadata": {},
   "source": [
    "There is an optional argument of `replace` which we can set to `False`. This would essentially remove each element from the sampling process after it has been selected. You just have to make sure that `a` does not exceed `n` because then it would run out of elements before acquiring the full sample. "
   ]
  },
  {
   "cell_type": "code",
   "execution_count": null,
   "id": "3567efd9-503a-4ec9-a65e-4f5fd0bc9b78",
   "metadata": {},
   "outputs": [],
   "source": [
    "import numpy as np \n",
    "\n",
    "chosen_doors = np.random.choice(a=3, size=3, replace=False)\n",
    "\n",
    "chosen_doors"
   ]
  },
  {
   "cell_type": "markdown",
   "id": "d97dfe5b-c46a-4eaf-9d77-ffd37db1c207",
   "metadata": {},
   "source": [
    "Now let's apply this to the Monty Hall Problem using a Monte Carlo simulation! "
   ]
  },
  {
   "cell_type": "markdown",
   "id": "ae181b94-40fe-4019-8ca1-6ae2e7d3143a",
   "metadata": {},
   "source": [
    "## Monty Hall Problem with Monte Carlo"
   ]
  },
  {
   "cell_type": "markdown",
   "id": "a0ab4cb6-501a-4d92-93bd-0ba948009f8d",
   "metadata": {},
   "source": [
    "A **monte carlo** simulation is a type of model that uses randomized data to understand something in the real world. You may have heard of the Monty Hall Problem, a famous probability problem originally framed on the game show *Let's Make a Deal*. The problem structures a contestant choosing between 3 doors, where 1 has the prize and the other two have goats. \n",
    "\n",
    "![img](data:image/svg+xml;base64,PD94bWwgdmVyc2lvbj0iMS4wIiBlbmNvZGluZz0iVVRGLTgiIHN0YW5kYWxvbmU9Im5vIj8+CjwhLS0gQ3JlYXRlZCB3aXRoIElua3NjYXBlIChodHRwOi8vd3d3Lmlua3NjYXBlLm9yZy8pIC0tPgoKPHN2ZwogICB3aWR0aD0iMTAxLjQwMDA5bW0iCiAgIGhlaWdodD0iMzIuNTExOTkzbW0iCiAgIHZpZXdCb3g9IjAgMCAxMDEuNDAwMDkgMzIuNTExOTkzIgogICB2ZXJzaW9uPSIxLjEiCiAgIGlkPSJzdmcxIgogICB4bWw6c3BhY2U9InByZXNlcnZlIgogICBpbmtzY2FwZTp2ZXJzaW9uPSIxLjMgKDBlMTUwZWQsIDIwMjMtMDctMjEpIgogICBzb2RpcG9kaTpkb2NuYW1lPSIzX2Rvb3JzLnN2ZyIKICAgeG1sbnM6aW5rc2NhcGU9Imh0dHA6Ly93d3cuaW5rc2NhcGUub3JnL25hbWVzcGFjZXMvaW5rc2NhcGUiCiAgIHhtbG5zOnNvZGlwb2RpPSJodHRwOi8vc29kaXBvZGkuc291cmNlZm9yZ2UubmV0L0RURC9zb2RpcG9kaS0wLmR0ZCIKICAgeG1sbnM9Imh0dHA6Ly93d3cudzMub3JnLzIwMDAvc3ZnIgogICB4bWxuczpzdmc9Imh0dHA6Ly93d3cudzMub3JnLzIwMDAvc3ZnIj48c29kaXBvZGk6bmFtZWR2aWV3CiAgICAgaWQ9Im5hbWVkdmlldzEiCiAgICAgcGFnZWNvbG9yPSIjZmZmZmZmIgogICAgIGJvcmRlcmNvbG9yPSIjMDAwMDAwIgogICAgIGJvcmRlcm9wYWNpdHk9IjAuMjUiCiAgICAgaW5rc2NhcGU6c2hvd3BhZ2VzaGFkb3c9IjIiCiAgICAgaW5rc2NhcGU6cGFnZW9wYWNpdHk9IjAuMCIKICAgICBpbmtzY2FwZTpwYWdlY2hlY2tlcmJvYXJkPSIwIgogICAgIGlua3NjYXBlOmRlc2tjb2xvcj0iI2QxZDFkMSIKICAgICBpbmtzY2FwZTpkb2N1bWVudC11bml0cz0ibW0iCiAgICAgaW5rc2NhcGU6em9vbT0iMS4yMDAwODY4IgogICAgIGlua3NjYXBlOmN4PSIxMjcuOTA3NDEiCiAgICAgaW5rc2NhcGU6Y3k9IjEzNC4xNTY5NiIKICAgICBpbmtzY2FwZTp3aW5kb3ctd2lkdGg9IjE0NzIiCiAgICAgaW5rc2NhcGU6d2luZG93LWhlaWdodD0iODkxIgogICAgIGlua3NjYXBlOndpbmRvdy14PSIwIgogICAgIGlua3NjYXBlOndpbmRvdy15PSIzNyIKICAgICBpbmtzY2FwZTp3aW5kb3ctbWF4aW1pemVkPSIxIgogICAgIGlua3NjYXBlOmN1cnJlbnQtbGF5ZXI9ImxheWVyMSIgLz48ZGVmcwogICAgIGlkPSJkZWZzMSI+PGNsaXBQYXRoCiAgICAgICBjbGlwUGF0aFVuaXRzPSJ1c2VyU3BhY2VPblVzZSIKICAgICAgIGlkPSJjbGlwUGF0aDIiPjxyZWN0CiAgICAgICAgIHN0eWxlPSJmaWxsOm5vbmU7c3Ryb2tlOiMwMDAwMDA7c3Ryb2tlLXdpZHRoOjAuMTtzdHJva2UtbGluZWNhcDpyb3VuZDtzdHJva2UtbGluZWpvaW46cm91bmQ7c3Ryb2tlLWRhc2hhcnJheTpub25lIgogICAgICAgICBpZD0icmVjdDIiCiAgICAgICAgIHdpZHRoPSIxMS43NTExOTYiCiAgICAgICAgIGhlaWdodD0iMTkuNjIzMDMyIgogICAgICAgICB4PSI3MC40MDk2MjIiCiAgICAgICAgIHk9IjEzNC4zODYxNSIgLz48L2NsaXBQYXRoPjxjbGlwUGF0aAogICAgICAgY2xpcFBhdGhVbml0cz0idXNlclNwYWNlT25Vc2UiCiAgICAgICBpZD0iY2xpcFBhdGgyLTMiPjxyZWN0CiAgICAgICAgIHN0eWxlPSJmaWxsOm5vbmU7c3Ryb2tlOiMwMDAwMDA7c3Ryb2tlLXdpZHRoOjAuMTtzdHJva2UtbGluZWNhcDpyb3VuZDtzdHJva2UtbGluZWpvaW46cm91bmQ7c3Ryb2tlLWRhc2hhcnJheTpub25lIgogICAgICAgICBpZD0icmVjdDItOSIKICAgICAgICAgd2lkdGg9IjExLjc1MTE5NiIKICAgICAgICAgaGVpZ2h0PSIxOS42MjMwMzIiCiAgICAgICAgIHg9IjcwLjQwOTYyMiIKICAgICAgICAgeT0iMTM0LjM4NjE1IiAvPjwvY2xpcFBhdGg+PC9kZWZzPjxnCiAgICAgaW5rc2NhcGU6bGFiZWw9IkxheWVyIDEiCiAgICAgaW5rc2NhcGU6Z3JvdXBtb2RlPSJsYXllciIKICAgICBpZD0ibGF5ZXIxIgogICAgIHRyYW5zZm9ybT0idHJhbnNsYXRlKC00OC43NjAyNjEsLTg0LjkxNDkwNSkiPjxwYXRoCiAgICAgICBjbGFzcz0ic3QwIgogICAgICAgZD0ibSA4Ni43MDIwOTcsMTE1LjQxMzQyIGggMS4xNjE1MiB2IC0yOS45NzE5ODggLTAuNTI2NTIgaCAwLjUyNjUyMSAyMS45NDE5MDIgMC41MjY1MiB2IDAuNTI2NTIgMjkuOTcxOTg4IGggMS4zNTk5NiB2IDIuMDEzNDggSCA4Ni43MDIwOTcgWiBtIDMuNjcyNDE2LC0yOC4yOTcxNzggaCAxNy45NzA1MDcgMC4yMTk2IHYgMC4yMTk2MSAyNy43NTIxMzggaCAxLjI0MDkgViA4NS45NjUzMTIgSCA4OC45MTQwMTMgdiAyOS40NDgxMDggaCAxLjI0MDg5NiB2IC0yOC4wNzc1NjggLTAuMjE5NjEgeiBtIDEuNTUzMTA0LDEzLjU4MzcwOCAxLjExOTE4OCwtMC4zMjAxNCB2IDQuMTgzMDUgbCAtMS4xMTkxODgsLTAuNDA0ODEgeiIKICAgICAgIGlkPSJwYXRoMS01LTMiCiAgICAgICBzdHlsZT0iY2xpcC1ydWxlOmV2ZW5vZGQ7ZmlsbC1ydWxlOmV2ZW5vZGQ7c3Ryb2tlLXdpZHRoOjAuMjY0NTgzIiAvPjxwYXRoCiAgICAgICBjbGFzcz0ic3QwIgogICAgICAgZD0ibSAxMjQuNjQzOTMsMTE1LjQxMzQyIGggMS4xNjE1MiB2IC0yOS45NzE5OTMgLTAuNTI2NTIgaCAwLjUyNjUyIDIxLjk0MTkgMC41MjY1MiB2IDAuNTI2NTIgMjkuOTcxOTkzIGggMS4zNTk5NiB2IDIuMDEzNDggaCAtMjUuNTE2NDIgeiBtIDMuNjcyNDIsLTI4LjI5NzE4MyBoIDE3Ljk3MDUgMC4yMTk2IHYgMC4yMTk2MSAyNy43NTIxMzMgaCAxLjI0MDkgViA4NS45NjUzMDcgaCAtMjAuODkxNSB2IDI5LjQ0ODExMyBoIDEuMjQwODkgdiAtMjguMDc3NTczIC0wLjIxOTYxIHogbSAxLjU1MzEsMTMuNTgzNzEzIDEuMTE5MTksLTAuMzIwMTQgdiA0LjE4MzA2IGwgLTEuMTE5MTksLTAuNDA0ODEgeiIKICAgICAgIGlkPSJwYXRoMS01LTIiCiAgICAgICBzdHlsZT0iY2xpcC1ydWxlOmV2ZW5vZGQ7ZmlsbC1ydWxlOmV2ZW5vZGQ7c3Ryb2tlLXdpZHRoOjAuMjY0NTgzIiAvPjxwYXRoCiAgICAgICBjbGFzcz0ic3QwIgogICAgICAgZD0ibSA0OC43NjAyNjEsMTE1LjQxMzQyIGggMS4xNjE1MiB2IC0yOS45NzE5OTUgLTAuNTI2NTIgaCAwLjUyNjUyMSAyMS45NDE5IDAuNTI2NTIgdiAwLjUyNjUyIDI5Ljk3MTk5NSBoIDEuMzU5OTYgdiAyLjAxMzQ4IEggNDguNzYwMjYxIFogbSAzLjY3MjQxNiwtMjguMjk3MTg1IGggMTcuOTcwNTA1IDAuMjE5NiB2IDAuMjE5NjEgMjcuNzUyMTM1IGggMS4yNDA5IFYgODUuOTY1MzA1IEggNTAuOTcyMTc3IHYgMjkuNDQ4MTE1IGggMS4yNDA4OTYgdiAtMjguMDc3NTc1IC0wLjIxOTYxIHogbSAxLjU1MzEwNCwxMy41ODM3MDUgMS4xMTkxODgsLTAuMzIwMTQgdiA0LjE4MzA2IGwgLTEuMTE5MTg4LC0wLjQwNDgxIHoiCiAgICAgICBpZD0icGF0aDEtNSIKICAgICAgIHN0eWxlPSJzdHJva2Utd2lkdGg6MC4yNjQ1ODMiIC8+PC9nPjxzdHlsZQogICAgIHR5cGU9InRleHQvY3NzIgogICAgIGlkPSJzdHlsZTEiPi5zdDB7ZmlsbC1ydWxlOmV2ZW5vZGQ7Y2xpcC1ydWxlOmV2ZW5vZGQ7fTwvc3R5bGU+PHN0eWxlCiAgICAgdHlwZT0idGV4dC9jc3MiCiAgICAgaWQ9InN0eWxlMS00Ij4uc3Qwe2ZpbGwtcnVsZTpldmVub2RkO2NsaXAtcnVsZTpldmVub2RkO308L3N0eWxlPjxzdHlsZQogICAgIHR5cGU9InRleHQvY3NzIgogICAgIGlkPSJzdHlsZTEtMCI+LnN0MHtmaWxsLXJ1bGU6ZXZlbm9kZDtjbGlwLXJ1bGU6ZXZlbm9kZDt9PC9zdHlsZT48L3N2Zz4K)\n",
    "\n",
    "Things get interesting though after the contestant chooses a door. Let's say they choose door #1. The game show host (who knows which door has the prize) opens one of the other doors to reveal a goat. \n",
    "\n",
    "![img](data:image/svg+xml;base64,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)\n",
    "\n",
    "The contestant is now given the opportunity to switch to the other unopened door. So the question is does the contestant improve their probability by switching or staying? \n",
    "\n",
    "Back in the 1990's, [a columnist named Marilyn vos Savant](https://priceonomics.com/the-time-everyone-corrected-the-worlds-smartest/) caused quite a stir in the scientific community. She proposed that a contestant doubles their chances by switching, shifting from a probability of $ \\frac{1}{3} $ to $ \\frac{2}{3} $. The mathematics and scientific community adamantly, publicly, and viciously told her she was wrong. However, she was proven right.\n",
    "\n",
    "![img](data:image/svg+xml;base64,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)\n",
    "\n",
    "We could use Bayes Theorem to prove Marilyn is correct, and I encouraged doing that exercise! However, I want to focus on Monte Carlo simulations as a vehicle for this kind of discovery. With our \"Monte Carlo Monty Hall\" simulation, we will show empirical evidence that switching indeed doubles the contestant's chance of winning. \n",
    "\n",
    "The Python code below will generate 100 random Monty Hall games (specified by the `trial_cnount`). On each game, it will randomly select the prize door and the contestant's selected door. The opened door will be the door that was not selected nor has the prize. The switch door will be the door that was not selected nor was opened. We will keep track of how often wins will occur by staying versus switching. "
   ]
  },
  {
   "cell_type": "markdown",
   "id": "5930b192-40f0-48fe-b366-4552ac56dd11",
   "metadata": {},
   "source": [
    "We will randomly choose a prize door and a contestant's chosen door 100 times. "
   ]
  },
  {
   "cell_type": "code",
   "execution_count": null,
   "id": "357f96a4-6f12-4217-a5e7-bc040fcddd59",
   "metadata": {},
   "outputs": [],
   "source": [
    "import numpy as np \n",
    "\n",
    "n = 100\n",
    "\n",
    "prize_doors = np.random.choice(3, n)\n",
    "chosen_doors = np.random.choice(3, n)"
   ]
  },
  {
   "cell_type": "code",
   "execution_count": null,
   "id": "96f5cd27-aaa0-4d5e-996d-2fd1c289dd32",
   "metadata": {
    "scrolled": true
   },
   "outputs": [],
   "source": [
    "prize_doors"
   ]
  },
  {
   "cell_type": "code",
   "execution_count": null,
   "id": "c30a8e18-1af7-4bb7-a22e-c9c67686a248",
   "metadata": {},
   "outputs": [],
   "source": [
    "chosen_doors"
   ]
  },
  {
   "cell_type": "markdown",
   "id": "6e87be6d-92a4-40c4-9813-1f3448d944e3",
   "metadata": {},
   "source": [
    "We will then open the remaining door, or randomly one of the remaining doors if the chosen door is the prize door. We will have to make sure the randomly opened door is neither the chosen door or the prize door. "
   ]
  },
  {
   "cell_type": "code",
   "execution_count": null,
   "id": "ab4a2d07-a2aa-4c31-a5b4-17603e40a6b6",
   "metadata": {},
   "outputs": [],
   "source": [
    "opened_doors = np.zeros(n, dtype=int) \n",
    "\n",
    "for i in range(n): \n",
    "    doors = np.arange(0,3)\n",
    "    opened_doors[i] = np.random.choice(\n",
    "        doors[(doors != prize_doors[i]) & (doors != chosen_doors[i])]\n",
    "    )\n",
    "\n",
    "opened_doors"
   ]
  },
  {
   "cell_type": "markdown",
   "id": "63e5f520-a952-4061-814f-ef9cd7f80286",
   "metadata": {},
   "source": [
    "We will then track which door will be the \"switch\" door, that is neither the chosen door or the opened door. "
   ]
  },
  {
   "cell_type": "code",
   "execution_count": null,
   "id": "2977b16b-5a7b-44be-943b-03bd643ae36f",
   "metadata": {},
   "outputs": [],
   "source": [
    "switch_doors = np.zeros(n, dtype=int) \n",
    "\n",
    "for i in range(n): \n",
    "    doors = np.arange(0,3)\n",
    "    switch_doors[i] = np.random.choice(\n",
    "        doors[(doors != chosen_doors[i]) & (doors != opened_doors[i])]\n",
    "    )\n",
    "\n",
    "switch_doors"
   ]
  },
  {
   "cell_type": "markdown",
   "id": "225efed1-caf2-498e-9cfd-703a19cb7a8e",
   "metadata": {},
   "source": [
    "Finally, we can tally up how often staying versus switching will result in wins. We can use the `sum()` function in NumPy against the boolean arrays comparing the chosen and switch doors to the prize doors. Sure enough, if we do this exercise multiple times and with different sample sizes, we will find switching will double our chances of winning give or take a small margin. "
   ]
  },
  {
   "cell_type": "code",
   "execution_count": null,
   "id": "a05ed72d-003e-46aa-9af1-25112bb4a6e6",
   "metadata": {},
   "outputs": [],
   "source": [
    "stay_wins = np.sum(chosen_doors == prize_doors) \n",
    "switch_wins = np.sum(switch_doors == prize_doors)\n",
    "\n",
    "print(f\"STAY WINS: {stay_wins}\")\n",
    "print(f\"SWITCH WINS: {switch_wins}\")"
   ]
  },
  {
   "cell_type": "markdown",
   "id": "0210ea03-21cb-4887-9c88-c10285fa9f94",
   "metadata": {},
   "source": [
    "## Exercise"
   ]
  },
  {
   "cell_type": "markdown",
   "id": "5adedfde-9ae9-4829-aa57-dc3cd24240cf",
   "metadata": {},
   "source": [
    "You are writing code for a video game where the protagonist is randomly ambushed by enemy attack helicopters, but on average three times per hour. \n",
    "\n",
    "Write some Python/NumPy code below to schedule how much time happens between the next 5 enemy attacks. "
   ]
  },
  {
   "cell_type": "code",
   "execution_count": null,
   "id": "7b59ff2e-bcfd-49fd-b12f-11e90f929eeb",
   "metadata": {},
   "outputs": [],
   "source": [
    "import numpy as np\n",
    "\n",
    "# PUT YOUR PYTHON CODE HERE\n",
    "\n",
    "\n"
   ]
  },
  {
   "cell_type": "markdown",
   "id": "1e477fbc-7870-481a-910b-8be165c9e736",
   "metadata": {},
   "source": [
    "### SCROLL DOWN FOR ANSWER\n",
    "|<br>\n",
    "|<br>\n",
    "|<br>\n",
    "|<br>\n",
    "|<br>\n",
    "|<br>\n",
    "|<br>\n",
    "|<br>\n",
    "|<br>\n",
    "|<br>\n",
    "|<br>\n",
    "|<br>\n",
    "|<br>\n",
    "|<br>\n",
    "|<br>\n",
    "|<br>\n",
    "|<br>\n",
    "|<br>\n",
    "|<br>\n",
    "|<br>\n",
    "|<br>\n",
    "|<br>\n",
    "|<br>\n",
    "v "
   ]
  },
  {
   "cell_type": "code",
   "execution_count": null,
   "id": "59620d85-797f-4417-898b-eb2ef91126c5",
   "metadata": {},
   "outputs": [],
   "source": [
    "import numpy as np\n",
    "\n",
    "lambda_rate = 3\n",
    "\n",
    "x = np.random.exponential(scale=1/lambda_rate, size=5)\n",
    "x"
   ]
  }
 ],
 "metadata": {
  "kernelspec": {
   "display_name": "Python 3 (ipykernel)",
   "language": "python",
   "name": "python3"
  },
  "language_info": {
   "codemirror_mode": {
    "name": "ipython",
    "version": 3
   },
   "file_extension": ".py",
   "mimetype": "text/x-python",
   "name": "python",
   "nbconvert_exporter": "python",
   "pygments_lexer": "ipython3",
   "version": "3.12.2"
  }
 },
 "nbformat": 4,
 "nbformat_minor": 5
}
