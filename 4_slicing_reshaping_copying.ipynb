{
 "cells": [
  {
   "cell_type": "markdown",
   "id": "f378a2a9-fe33-46d2-9b2d-afa90de41663",
   "metadata": {},
   "source": [
    "# Slicing, Reshaping, and Copying"
   ]
  },
  {
   "cell_type": "code",
   "execution_count": null,
   "id": "c46b9a13-25f2-4589-9903-5c2ddcd22e29",
   "metadata": {},
   "outputs": [],
   "source": []
  }
 ],
 "metadata": {
  "kernelspec": {
   "display_name": "Python 3 (ipykernel)",
   "language": "python",
   "name": "python3"
  },
  "language_info": {
   "codemirror_mode": {
    "name": "ipython",
    "version": 3
   },
   "file_extension": ".py",
   "mimetype": "text/x-python",
   "name": "python",
   "nbconvert_exporter": "python",
   "pygments_lexer": "ipython3",
   "version": "3.12.2"
  }
 },
 "nbformat": 4,
 "nbformat_minor": 5
}
