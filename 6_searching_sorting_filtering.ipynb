{
 "cells": [
  {
   "cell_type": "markdown",
   "id": "b7e2136c-3a37-43e8-a3ef-91bee1db7262",
   "metadata": {},
   "source": [
    "# Searching, Sorting, and Filtering"
   ]
  },
  {
   "cell_type": "markdown",
   "id": "5fbceae6-0976-4d37-ad7d-44108313c574",
   "metadata": {},
   "source": [
    "In this section we will cover how to search, sort, and filter arrays. You may often find that these tasks are more commonly done in Pandas, but there will be use cases when you are using arrays you want to filter records. "
   ]
  },
  {
   "cell_type": "markdown",
   "id": "e0d15523-1c23-4246-a7a6-04ae76b129e7",
   "metadata": {},
   "source": [
    "## Searching and Filtering"
   ]
  },
  {
   "cell_type": "markdown",
   "id": "75db68bd-7fd0-40d5-9624-db9fde33c23c",
   "metadata": {},
   "source": [
    "When you are start doing conditional operators on an array (such as `>`, `<`, `>=`, `<=`, `==`) you will get an array of boolean values (`True` and `False`)."
   ]
  },
  {
   "cell_type": "code",
   "execution_count": null,
   "id": "60791fa9-39fe-4c95-8ac9-bf6c5c606ca3",
   "metadata": {},
   "outputs": [],
   "source": [
    "import numpy as np\n",
    "\n",
    "x = np.array([21, 500, 232, 72, 682])\n",
    "\n",
    "x < 100"
   ]
  },
  {
   "cell_type": "markdown",
   "id": "9e1cb583-6332-4d80-95e6-2e532307343b",
   "metadata": {},
   "source": [
    "When you search an array, you typically are going to return the indices of elements in an array that meets your criteria. For example, we can use the `where()` function to find elements in an array `x` that are less than 100. This will return an array of indices for elements that match that condition. "
   ]
  },
  {
   "cell_type": "code",
   "execution_count": null,
   "id": "bd949882-33ec-4d79-bf56-d8624d1cd491",
   "metadata": {},
   "outputs": [],
   "source": [
    "import numpy as np\n",
    "\n",
    "x = np.array([21, 500, 232, 72, 682])\n",
    "\n",
    "i = np.where(x < 100)\n",
    "\n",
    "print(i)"
   ]
  },
  {
   "cell_type": "markdown",
   "id": "7437bd2b-7af8-430b-9092-5f56eafab21b",
   "metadata": {},
   "source": [
    "If I wanted to retrieve those values and not their indices, just pass that index array `i` back to the `x` as `x[i]`. "
   ]
  },
  {
   "cell_type": "code",
   "execution_count": null,
   "id": "02b09c67-61c3-4d77-9abe-96a137e7b5af",
   "metadata": {},
   "outputs": [],
   "source": [
    "import numpy as np\n",
    "\n",
    "x = np.array([21, 500, 232, 72, 682])\n",
    "\n",
    "i = np.where(x < 100)\n",
    "\n",
    "print(x[i])"
   ]
  },
  {
   "cell_type": "markdown",
   "id": "e134e2d5-8e60-4de0-bb12-58de666b209b",
   "metadata": {},
   "source": [
    "We can also use the equals `==` operator to find indices for an exact value. "
   ]
  },
  {
   "cell_type": "code",
   "execution_count": null,
   "id": "25a275ca-2730-47d3-adef-16a9c05febd6",
   "metadata": {},
   "outputs": [],
   "source": [
    "import numpy as np\n",
    "\n",
    "x = np.array([21, 500, 232, 72, 682])\n",
    "\n",
    "np.where(x == 500)"
   ]
  },
  {
   "cell_type": "markdown",
   "id": "8fe88fb2-b117-4532-b37f-5b2f6f4971c6",
   "metadata": {},
   "source": [
    "We can also use `&` to combine multiple conditions, effectively operating as an \"AND\". Just be sure to put each condition in parantheses. Below we look for all indices where x is between 20 and 100 exclusively. "
   ]
  },
  {
   "cell_type": "code",
   "execution_count": null,
   "id": "c9536e2b-dfb1-4655-a6f4-e4992dab9f38",
   "metadata": {},
   "outputs": [],
   "source": [
    "import numpy as np\n",
    "\n",
    "x = np.array([21, 500, 232, 72, 682])\n",
    "\n",
    "i = np.where((20 < x) & (x < 100))\n",
    "\n",
    "print(i)"
   ]
  },
  {
   "cell_type": "code",
   "execution_count": null,
   "id": "6aef792d-7616-4010-8b59-d82ac3894443",
   "metadata": {},
   "outputs": [],
   "source": [
    "import numpy as np\n",
    "\n",
    "x = np.array([21, 500, 232, 72, 682])\n",
    "\n",
    "i = np.where((20 < x) & (x < 100))\n",
    "\n",
    "print(i)\n",
    "print(x[i])"
   ]
  },
  {
   "cell_type": "markdown",
   "id": "e0384e2b-3765-46f6-bc05-57e9bf360068",
   "metadata": {},
   "source": [
    "Use a pipe `|` to perform an \"OR\" operation. Below we find values that are less than 20 or more than 100. "
   ]
  },
  {
   "cell_type": "code",
   "execution_count": null,
   "id": "ec747d16-455a-41ca-a8eb-b324ca9ebe76",
   "metadata": {},
   "outputs": [],
   "source": [
    "import numpy as np\n",
    "\n",
    "x = np.array([21, 500, 232, 72, 682])\n",
    "\n",
    "i = np.where((x < 20) | (100 < x))\n",
    "\n",
    "print(i)\n",
    "print(x[i])"
   ]
  },
  {
   "cell_type": "markdown",
   "id": "f210941f-9f82-49fb-bb3b-b8d302bacfcd",
   "metadata": {},
   "source": [
    "We can also provide `x` and `y` arguments to the `where()` function. What this will do is if the condition is `True` for an element, it will return the element from `x`. Otherwise it will return the element from `y`. \n",
    "\n",
    "Below, we keep all elements from `x` that are greater than `100`. If they are not, they are turned to `0`. "
   ]
  },
  {
   "cell_type": "code",
   "execution_count": null,
   "id": "2d53f38a-afe7-40d4-8ec6-e095a7fddcdc",
   "metadata": {
    "scrolled": true
   },
   "outputs": [],
   "source": [
    "import numpy as np\n",
    "\n",
    "x = np.array([21, 500, 232, 72, 682])\n",
    "y = np.zeros(5)\n",
    "\n",
    "np.where(x > 100, x, y)"
   ]
  },
  {
   "cell_type": "markdown",
   "id": "7bc7e292-df45-41c1-8330-81e51530ea12",
   "metadata": {},
   "source": [
    "Of course, these ideas extend to multidimensional arrays. Below we find the indices for elements greater than 2 in a 2x2 array. We can then retrieve those elements for those indices. "
   ]
  },
  {
   "cell_type": "code",
   "execution_count": null,
   "id": "c110258d-9eb4-4f61-a102-43ed00839ce0",
   "metadata": {},
   "outputs": [],
   "source": [
    "X = np.array([[1,2],[3,4]])\n",
    "\n",
    "i = np.where(X > 2)"
   ]
  },
  {
   "cell_type": "code",
   "execution_count": null,
   "id": "ff6cb166-d70f-485c-8b85-0601fde9b5d2",
   "metadata": {},
   "outputs": [],
   "source": [
    "X[i]"
   ]
  },
  {
   "cell_type": "markdown",
   "id": "ab62d85a-0f1b-43f8-85cf-34cc1821111a",
   "metadata": {},
   "source": [
    "## Sorting"
   ]
  },
  {
   "cell_type": "markdown",
   "id": "82a1567b-852a-4e50-b75a-6774b26eecf2",
   "metadata": {},
   "source": [
    "You can sort elements in an array using the `sort()` function. By default, it will sort the elements ascending. "
   ]
  },
  {
   "cell_type": "code",
   "execution_count": null,
   "id": "f1939630-ddb0-451d-9139-e97d6d1a3374",
   "metadata": {},
   "outputs": [],
   "source": [
    "x = np.array([6, 2, 8, -1, 0, 12])\n",
    "np.sort(x) "
   ]
  },
  {
   "cell_type": "markdown",
   "id": "5a0e8603-8ee7-4117-afd8-d022a51f10c8",
   "metadata": {},
   "source": [
    "What about sorting elements descending? This requires a little bit of a hack. We will first turn all the `x` elements negative, do the sort, and then apply another negative to undo the first negative. "
   ]
  },
  {
   "cell_type": "code",
   "execution_count": null,
   "id": "b601dccd-db40-445a-8180-afeefc249254",
   "metadata": {},
   "outputs": [],
   "source": [
    "-np.sort(-x)"
   ]
  },
  {
   "cell_type": "markdown",
   "id": "107942b4-a7f8-442c-a339-4d3f8009f035",
   "metadata": {},
   "source": [
    "We can also apply sorting on multidimensional arrays. By default it will sort elements on each row for a 2x2 matrix. "
   ]
  },
  {
   "cell_type": "code",
   "execution_count": null,
   "id": "0ad0ad10-128c-4aac-9225-a84a2263dfd7",
   "metadata": {},
   "outputs": [],
   "source": [
    "x = np.array([[5, 1, 81], [45, 2, -1]])\n",
    "x"
   ]
  },
  {
   "cell_type": "code",
   "execution_count": null,
   "id": "e03c60af-d86c-4b55-90cb-f01cff4bb17d",
   "metadata": {
    "scrolled": true
   },
   "outputs": [],
   "source": [
    "np.sort(x)"
   ]
  },
  {
   "cell_type": "markdown",
   "id": "62721987-7810-4070-b01a-7e13292efacc",
   "metadata": {},
   "source": [
    "We can also sort each column rather than row by setting `axis=0`. "
   ]
  },
  {
   "cell_type": "code",
   "execution_count": null,
   "id": "818de0ae-4116-4533-a4b0-b3c7708e6a6e",
   "metadata": {},
   "outputs": [],
   "source": [
    "np.sort(x, axis=0)"
   ]
  },
  {
   "cell_type": "markdown",
   "id": "ab51cab6-e1bd-47e1-94d7-38b7f4eb07de",
   "metadata": {},
   "source": [
    "## Sorted Search"
   ]
  },
  {
   "cell_type": "markdown",
   "id": "9d68367b-c57f-41da-a82e-c210fd228637",
   "metadata": {},
   "source": [
    "If you have an array that is already sorted, you can do a specialized search using `searchsorted()`, which does a binary search of the array. "
   ]
  },
  {
   "cell_type": "code",
   "execution_count": null,
   "id": "54781ca3-95f6-4066-9275-847a9147a84e",
   "metadata": {},
   "outputs": [],
   "source": [
    "x = np.array([-1,  0,  2,  6,  6,  8, 12])"
   ]
  },
  {
   "cell_type": "markdown",
   "id": "14f0947c-7d81-457d-b5bd-7ea589132afe",
   "metadata": {},
   "source": [
    "Let's say I want to find the first instance of a `6`. `searchsorted()` will look left-to-right and stop the moment it finds a `6`, then return the index. "
   ]
  },
  {
   "cell_type": "code",
   "execution_count": null,
   "id": "e9fb72b7-8d71-487d-927e-c553c3cdcf82",
   "metadata": {},
   "outputs": [],
   "source": [
    "np.searchsorted(x, 6)"
   ]
  },
  {
   "cell_type": "markdown",
   "id": "3419ff7a-0ef1-40ac-818e-3ebcf8030fd8",
   "metadata": {},
   "source": [
    "Note carefully that the `searchsorted()` is intended for use in sorted arrays, as it will move left-to-right and find the first instance of that value. \n",
    "\n",
    "We can also start the search from the right and get the right-most index. Note this is not an index of `4` as this function is often used for insertion, which we will show shortly. "
   ]
  },
  {
   "cell_type": "code",
   "execution_count": null,
   "id": "3852c6e8-b063-40e5-8a17-0a9420c35092",
   "metadata": {},
   "outputs": [],
   "source": [
    "np.searchsorted(x, 6, side='right')"
   ]
  },
  {
   "cell_type": "markdown",
   "id": "7c973862-8e87-4123-b25f-489999a2bbda",
   "metadata": {},
   "source": [
    "We often use `sortedsearch()` to find the index to insert a value based on an existing sort. So if I wanted to insert `4` before the `6` I can do that."
   ]
  },
  {
   "cell_type": "code",
   "execution_count": null,
   "id": "765c51e8-4dde-4012-a35a-34e702f81ddf",
   "metadata": {},
   "outputs": [],
   "source": [
    "np.insert(x, 3, 4)"
   ]
  },
  {
   "cell_type": "markdown",
   "id": "be4cc8be-86d1-4469-907f-8145523e09ba",
   "metadata": {},
   "source": [
    "If we wanted to insert a value on the right, we would use the index of `5` to insert a `7`. "
   ]
  },
  {
   "cell_type": "code",
   "execution_count": null,
   "id": "713b27e6-6c83-49a7-ae2a-9dab54a9f38c",
   "metadata": {},
   "outputs": [],
   "source": [
    "np.insert(x,5,7)"
   ]
  },
  {
   "cell_type": "markdown",
   "id": "0fbd1bb0-3bcc-4f20-8eae-de4902b7f50f",
   "metadata": {},
   "source": [
    "## Exercise "
   ]
  },
  {
   "cell_type": "markdown",
   "id": "a550adaf-0bd2-4a56-8ff3-8f32c9a08833",
   "metadata": {},
   "source": [
    "For the integers 0 through 99, grab the elements that are inclusively between 20 and 30, or greater than 70. "
   ]
  },
  {
   "cell_type": "code",
   "execution_count": null,
   "id": "4f344b44-783a-447c-b8e1-4ee30374a836",
   "metadata": {},
   "outputs": [],
   "source": [
    "import numpy as np \n",
    "\n",
    "x = np.arange(0,100)\n",
    "\n",
    "## put your code here \n",
    "\n"
   ]
  },
  {
   "cell_type": "markdown",
   "id": "61ef1487-356f-4309-b627-1a5c6cf5bcfa",
   "metadata": {},
   "source": [
    "### SCROLL DOWN FOR ANSWER\n",
    "|<br>\n",
    "|<br>\n",
    "|<br>\n",
    "|<br>\n",
    "|<br>\n",
    "|<br>\n",
    "|<br>\n",
    "|<br>\n",
    "|<br>\n",
    "|<br>\n",
    "|<br>\n",
    "|<br>\n",
    "|<br>\n",
    "|<br>\n",
    "|<br>\n",
    "|<br>\n",
    "|<br>\n",
    "|<br>\n",
    "|<br>\n",
    "|<br>\n",
    "|<br>\n",
    "|<br>\n",
    "|<br>\n",
    "v "
   ]
  },
  {
   "cell_type": "code",
   "execution_count": null,
   "id": "f3b899d7-3149-4d50-b250-33979ab72e69",
   "metadata": {},
   "outputs": [],
   "source": [
    "import numpy as np \n",
    "\n",
    "x = np.arange(0,100)\n",
    "\n",
    "## put your code here \n",
    "\n",
    "i = np.where(((x >= 20) & (x <= 30)) | (x > 70))\n",
    "x[i]"
   ]
  }
 ],
 "metadata": {
  "kernelspec": {
   "display_name": "Python 3 (ipykernel)",
   "language": "python",
   "name": "python3"
  },
  "language_info": {
   "codemirror_mode": {
    "name": "ipython",
    "version": 3
   },
   "file_extension": ".py",
   "mimetype": "text/x-python",
   "name": "python",
   "nbconvert_exporter": "python",
   "pygments_lexer": "ipython3",
   "version": "3.12.2"
  }
 },
 "nbformat": 4,
 "nbformat_minor": 5
}
